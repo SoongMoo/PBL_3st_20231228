{
 "cells": [
  {
   "cell_type": "code",
   "execution_count": 7,
   "id": "f484dc46-f27c-4ffe-901d-c985dd3e53c3",
   "metadata": {},
   "outputs": [
    {
     "name": "stdout",
     "output_type": "stream",
     "text": [
      "8\n",
      "8\n"
     ]
    }
   ],
   "source": [
    "print(3 + 5)\n",
    "print(3 + 5)"
   ]
  },
  {
   "cell_type": "code",
   "execution_count": 9,
   "id": "41da8ee0-a9b6-4d72-a90f-7edeef32d239",
   "metadata": {},
   "outputs": [
    {
     "name": "stdout",
     "output_type": "stream",
     "text": [
      "8\n",
      "8\n",
      "8\n",
      "8\n"
     ]
    }
   ],
   "source": [
    "print(3 + 5);print(3 + 5);print(3 + 5);print(3 + 5)"
   ]
  },
  {
   "cell_type": "code",
   "execution_count": 14,
   "id": "aaa9b9d4-0a21-4753-8599-5c008bb78ddb",
   "metadata": {},
   "outputs": [
    {
     "name": "stdout",
     "output_type": "stream",
     "text": [
      "8\n",
      "10\n",
      "10\n",
      "10\n"
     ]
    }
   ],
   "source": [
    "if True:\n",
    "    print(3+5)\n",
    "    print(4+ 6)\n",
    "    \n",
    "print(5 +5 )\n",
    "\n",
    "if False:\n",
    "    print(3+5)\n",
    "    print(4+ 6)\n",
    "\n",
    "print(5 +5 )"
   ]
  },
  {
   "cell_type": "code",
   "execution_count": 18,
   "id": "026b9662-6bbf-4bb9-9b62-6eddd975b029",
   "metadata": {},
   "outputs": [
    {
     "name": "stdout",
     "output_type": "stream",
     "text": [
      "30\n",
      "30\n",
      "10\n",
      "10.5\n"
     ]
    }
   ],
   "source": [
    "#         자연인\n",
    "# 리터널 : 자연수(숫자) : 정수  : 10\n",
    "#                        실수  :  10.5\n",
    "#                        지수  : e\n",
    "#         자연어 : apple, red : 문자 , 문자열\n",
    "# 변수 : 리터널을 저장할 수 있하는 문자\n",
    "a = 10 # 변수 a에 리터널 정수 10이 저장 됨.\n",
    "b = 20\n",
    "print(10 + 20)\n",
    "print( a + b)\n",
    "print(a)\n",
    "a = 10.5 # 파이썬을 타입을 별도로 지정하지 않으므로 어떠한 값이든 저장할 수 있다.\n",
    "print(a)\n",
    "# 변수는 오직 하나의 값만 저장한다."
   ]
  },
  {
   "cell_type": "code",
   "execution_count": null,
   "id": "5175e178-fa52-4f9d-b286-620538a84f4f",
   "metadata": {},
   "outputs": [],
   "source": [
    "i = 10 # 정수 리터널을 가진 변수\n",
    "d = 10.5 # 실수 리터널을 가진 변수"
   ]
  },
  {
   "cell_type": "code",
   "execution_count": 24,
   "id": "54c319aa-f0af-45e7-98aa-801278027443",
   "metadata": {},
   "outputs": [
    {
     "name": "stdout",
     "output_type": "stream",
     "text": [
      "30\n",
      "-10\n",
      "200\n",
      "3.3333333333333335\n",
      "1\n",
      "3\n",
      "1000\n"
     ]
    }
   ],
   "source": [
    "# 숫자 연산자 : +, -, / , *, %:나머지, // :몫, ** : 제곱승\n",
    "a = 10\n",
    "b = 20\n",
    "print( a + b )\n",
    "print( 10 - 20 )\n",
    "print( a * 20 )\n",
    "print( a / 3 )\n",
    "print( a % 3 ) #  나머지 연잔자\n",
    "print( a // 3 ) # 몫 연산자\n",
    "print( a ** 3) # 10의 3승 "
   ]
  },
  {
   "cell_type": "code",
   "execution_count": 30,
   "id": "8b970a68-8677-4992-81cb-06690c98634d",
   "metadata": {},
   "outputs": [
    {
     "name": "stdout",
     "output_type": "stream",
     "text": [
      "14\n",
      "13\n",
      "13\n"
     ]
    }
   ],
   "source": [
    "# 대입 연산자\n",
    "a = 10\n",
    "a = a + 2 \n",
    "a += 2 # 대입연산자\n",
    "print(a)\n",
    "a = 10\n",
    "b = 3\n",
    "a = a + b\n",
    "print(a)\n",
    "a = 10\n",
    "b = 3\n",
    "a += b\n",
    "print(a)"
   ]
  },
  {
   "cell_type": "code",
   "execution_count": 32,
   "id": "92601476-4022-4666-8a4b-6549912c7a5d",
   "metadata": {},
   "outputs": [
    {
     "name": "stdout",
     "output_type": "stream",
     "text": [
      "7\n",
      "7\n",
      "7\n"
     ]
    }
   ],
   "source": [
    "print(a)\n",
    "a = 10\n",
    "b = 3\n",
    "a = a - b\n",
    "print(a)\n",
    "a = 10\n",
    "b = 3\n",
    "a -= b\n",
    "print(a)"
   ]
  },
  {
   "cell_type": "code",
   "execution_count": 34,
   "id": "82911665-0603-4224-9f2a-932b74c8ae23",
   "metadata": {},
   "outputs": [
    {
     "name": "stdout",
     "output_type": "stream",
     "text": [
      "1\n",
      "1\n",
      "1\n",
      "3\n",
      "1000\n"
     ]
    }
   ],
   "source": [
    "print(a)\n",
    "a = 10\n",
    "b = 3\n",
    "a = a % b\n",
    "print(a)\n",
    "a = 10\n",
    "b = 3\n",
    "a %= b\n",
    "print(a)\n",
    "a = 10\n",
    "b = 3\n",
    "a //= b\n",
    "print(a)\n",
    "a = 10\n",
    "b = 3\n",
    "a **= b\n",
    "print(a)"
   ]
  },
  {
   "cell_type": "code",
   "execution_count": 52,
   "id": "ef1d8319-0993-4b06-9283-da7674a79531",
   "metadata": {},
   "outputs": [
    {
     "name": "stdout",
     "output_type": "stream",
     "text": [
      "10\n",
      "10\n",
      "이숭무\n",
      "이숭무\n",
      "이숭무10\n",
      "이숭무10\n"
     ]
    },
    {
     "ename": "TypeError",
     "evalue": "'str' object is not callable",
     "output_type": "error",
     "traceback": [
      "\u001b[1;31m---------------------------------------------------------------------------\u001b[0m",
      "\u001b[1;31mTypeError\u001b[0m                                 Traceback (most recent call last)",
      "Cell \u001b[1;32mIn[52], line 15\u001b[0m\n\u001b[0;32m     13\u001b[0m \u001b[38;5;28mprint\u001b[39m(\u001b[38;5;124m\"\u001b[39m\u001b[38;5;124m이숭무\u001b[39m\u001b[38;5;124m\"\u001b[39m \u001b[38;5;241m+\u001b[39m \u001b[38;5;28mstr\u001b[39m(\u001b[38;5;241m10\u001b[39m)) \n\u001b[0;32m     14\u001b[0m \u001b[38;5;28mstr\u001b[39m \u001b[38;5;241m=\u001b[39m \u001b[38;5;124m\"\u001b[39m\u001b[38;5;124m이정범\u001b[39m\u001b[38;5;124m\"\u001b[39m\n\u001b[1;32m---> 15\u001b[0m \u001b[38;5;28mprint\u001b[39m(\u001b[38;5;124m\"\u001b[39m\u001b[38;5;124m이숭무\u001b[39m\u001b[38;5;124m\"\u001b[39m \u001b[38;5;241m+\u001b[39m \u001b[38;5;28;43mstr\u001b[39;49m\u001b[43m(\u001b[49m\u001b[38;5;241;43m10\u001b[39;49m\u001b[43m)\u001b[49m)\n",
      "\u001b[1;31mTypeError\u001b[0m: 'str' object is not callable"
     ]
    }
   ],
   "source": [
    "이숭무 = 10\n",
    "print(이숭무)\n",
    "이상범 = 이숭무 # 변수\n",
    "print(이상범)\n",
    "이상범 = \"이숭무\"\n",
    "print(이상범)\n",
    "# 리터널 : 자연수 : 정수(2, 10) ,실수(2.5, 10.5)\n",
    "#          자연어 : \"apple\", \"이숭무\"\n",
    "str1 = \"이숭무\"\n",
    "print(str1)\n",
    "#print(\"이숭무\" + 10) # 문자 + 정수\n",
    "print(\"이숭무\" +  \"10\")\n",
    "print(\"이숭무\" + str(10)) \n",
    "str = \"이정범\"\n",
    "print(\"이숭무\" + str(10))"
   ]
  },
  {
   "cell_type": "code",
   "execution_count": 53,
   "id": "b7cd043f-0e85-45ee-a0d6-56f13bd5a1f5",
   "metadata": {},
   "outputs": [
    {
     "name": "stdout",
     "output_type": "stream",
     "text": [
      "이숭무10\n"
     ]
    }
   ],
   "source": [
    "del str\n",
    "print(\"이숭무\" + str(10))"
   ]
  },
  {
   "cell_type": "code",
   "execution_count": 65,
   "id": "ed211d66-847d-4beb-8492-967a0665f1d3",
   "metadata": {},
   "outputs": [
    {
     "name": "stdout",
     "output_type": "stream",
     "text": [
      "이숭무\n",
      "이상범\n",
      "Life is short, You need python\n",
      "Life's short, You need python\n",
      "Life's short, 'You need' python\n",
      "Life is short, \"You need python\"\n",
      "Life is short, \"You need python\"\n",
      "Life's short, \"You need python\"\n"
     ]
    }
   ],
   "source": [
    "str1 = \"이숭무\"\n",
    "print(str1)\n",
    "str1 = '이상범'\n",
    "print(str1)\n",
    "## 문자열 리터널 : \"\", '', \"\"\" \"\"\", ''' '''\n",
    "str1 = \"Life is short, You need python\"\n",
    "print(str1)\n",
    "str1 = \"Life's short, You need python\"\n",
    "print(str1)\n",
    "str1 = \"Life's short, 'You need' python\"\n",
    "print(str1)\n",
    "str1 = \"Life is short, \\\"You need python\\\"\"\n",
    "print(str1)\n",
    "str1 = 'Life is short, \"You need python\"'\n",
    "print(str1)\n",
    "str1 = 'Life\\'s short, \"You need python\"'\n",
    "print(str1)"
   ]
  },
  {
   "cell_type": "code",
   "execution_count": 70,
   "id": "dbab5cfe-6cb1-40f1-bd70-05220f0dc6b5",
   "metadata": {},
   "outputs": [
    {
     "name": "stdout",
     "output_type": "stream",
     "text": [
      "Life is short, \n",
      "\"You need python\"\n",
      "Life is short, \n",
      "\"You need python\"\n",
      "Life's short, \n",
      "You need python \n"
     ]
    }
   ],
   "source": [
    "str1 = 'Life is short, \\n\"You need python\"'\n",
    "print(str1)\n",
    "str1 = '''Life is short, \n",
    "\"You need python\"'''\n",
    "print(str1)\n",
    "str1 = \"\"\"Life's short, \n",
    "You need python \"\"\"\n",
    "print(str1)"
   ]
  },
  {
   "cell_type": "code",
   "execution_count": 79,
   "id": "1130e329-99d8-49b1-90dc-2d3404b8f979",
   "metadata": {},
   "outputs": [
    {
     "name": "stdout",
     "output_type": "stream",
     "text": [
      "Life is fun\n",
      "Life is Life is Life is \n",
      "이숭무이숭무이숭무\n",
      "==================================================\n",
      "제목\n",
      "==================================================\n"
     ]
    }
   ],
   "source": [
    "# 문자열 연산자 : +:연결연산자:concatenate , * : 반복연산자.\n",
    "head = \"Life is \"\n",
    "tail = \"fun\"\n",
    "print(head + tail)\n",
    "print( head * 3 )\n",
    "print(\"이숭무\" * 3)\n",
    "print(\"==================================================\")\n",
    "print(\"제목\")\n",
    "print(\"=\" * 50 ) # 문자열 * 숫자"
   ]
  },
  {
   "cell_type": "code",
   "execution_count": 95,
   "id": "49bf196c-b993-4c78-ba09-f502103e464c",
   "metadata": {},
   "outputs": [
    {
     "name": "stdout",
     "output_type": "stream",
     "text": [
      "h\n",
      "d\n",
      "30\n",
      "n\n",
      "n\n",
      "i\n",
      "i\n",
      "n\n",
      "n\n",
      "L\n",
      "L\n",
      "L\n",
      "Life\n",
      "L\n",
      "i\n",
      "f\n",
      "e\n",
      "Life\n"
     ]
    }
   ],
   "source": [
    "# indexing\n",
    "#문자열에는 각 문자의 위치를 나타내는 index\n",
    "'Life is short, You need python'\n",
    "#012345678901234567890123456789      : index\n",
    "#          1         2  \n",
    "#098765432109876543210987654321 -\n",
    "#3         2         1    \n",
    "str1 = 'Life is short, You need python'\n",
    "print(str1[9])\n",
    "print(str1[22])\n",
    "print(len(str1)) # len : 크기 : 글자의 수\n",
    "print(str1[29])\n",
    "print(str1[len(str1) -1])\n",
    "print(str1[1])\n",
    "print('Life is short, You need python'[1])\n",
    "print(str1[29])\n",
    "print(str1[-1])\n",
    "print(str1[0])\n",
    "print(str1[-30])\n",
    "print(str1[-len(str1)])\n",
    "print('Life')\n",
    "#str1을 이용해서 'Life'를 출력\n",
    "print(str1[0])\n",
    "print(str1[1])\n",
    "print(str1[2])\n",
    "print(str1[3])\n",
    "print(str1[0]+str1[1]+str1[2]+str1[3])"
   ]
  },
  {
   "cell_type": "code",
   "execution_count": 108,
   "id": "84c9216e-3cf8-4063-bf2f-aa9864309ba8",
   "metadata": {},
   "outputs": [
    {
     "name": "stdout",
     "output_type": "stream",
     "text": [
      "Life\n",
      "Life\n",
      "Life\n",
      "short\n",
      "short\n",
      "s sho\n",
      "\n",
      "short\n",
      "================================================================================\n",
      "Life\n",
      "Life\n"
     ]
    }
   ],
   "source": [
    "# slicing\n",
    "str1 = \"Life is short\"\n",
    "#       0123456789012\n",
    "#                 1\n",
    "#       3210987654321 -\n",
    "#          1\n",
    "print(str1[0]+str1[1]+str1[2]+str1[3]) \n",
    "print(str1[0:4]) # strat = 0; stop = 4\n",
    "print(str1[0 : 0 + 4])\n",
    "'''short'''\n",
    "print(str1[8 : 8 + 5])\n",
    "print(str1[8 : 13])\n",
    "print(str1[-7 : -7 + 5])\n",
    "print(str1[-7 : -2])\n",
    "print(str1[-5 : -5 + 5]) # 마지막이 0이되어서 안됨\n",
    "print(str1[-5 :])\n",
    "print(\"====\" * 20)\n",
    "print(str1[0 : 4])\n",
    "print(str1[: 4])\n",
    "print(\"====\" * 20)\n",
    "print(str1[8 : 13])\n",
    "print(str1[-5 : 13]) # index는  순서가 아니라 문자의 위치를 알려주는 값"
   ]
  },
  {
   "cell_type": "code",
   "execution_count": 119,
   "id": "dc9d5102-cfff-4d37-8408-3ecc85e58962",
   "metadata": {},
   "outputs": [
    {
     "name": "stdout",
     "output_type": "stream",
     "text": [
      "20010331\n",
      "Rainy\n",
      "2001\n",
      "03\n",
      "31\n"
     ]
    }
   ],
   "source": [
    "# a = \"20010331Rainy\"\n",
    "# 날짜(년월일)와 이름을 분리하여 출력\n",
    "'''20010331'''\n",
    "'''Rainy'''\n",
    "print(a[: 0 + 8])\n",
    "print(a[8:])\n",
    "print(a[:4])\n",
    "print(a[4:4+2])\n",
    "print(a[6:8])"
   ]
  },
  {
   "cell_type": "code",
   "execution_count": 144,
   "id": "84347ec6-9bd1-43c2-a120-f7acf10f62a5",
   "metadata": {},
   "outputs": [
    {
     "name": "stdout",
     "output_type": "stream",
     "text": [
      "Life is short\n",
      "Lf ssot\n",
      "Lf ssot\n",
      "Lesht\n",
      "trohs si efiL\n",
      "trohs si efiL\n",
      "fe is shor\n",
      "rohs si ef\n"
     ]
    }
   ],
   "source": [
    "print(str1)\n",
    "'''Life is short'''\n",
    "print(str1[0:13:2])\n",
    "print(str1[::2])\n",
    "print(str1[::3])\n",
    "#reverse\n",
    "print(str1[::-1])\n",
    "print(str1[13::-1])\n",
    "print(str1[2:12])\n",
    "#print(str1[2:12:-1])\n",
    "print(str1[11:1:-1])"
   ]
  },
  {
   "cell_type": "code",
   "execution_count": 149,
   "id": "7a001a0b-56eb-40de-b917-1a0c4c80e059",
   "metadata": {},
   "outputs": [
    {
     "name": "stdout",
     "output_type": "stream",
     "text": [
      "i\n",
      "python\n"
     ]
    }
   ],
   "source": [
    "str1=\"pithon\" \n",
    "print(str1[1])\n",
    "#str1[1] = 'y' #문자열안에 있는 문자는 변경 할 수 없다.\n",
    "print(str1[0] +'y'+str1[2:])"
   ]
  },
  {
   "cell_type": "code",
   "execution_count": 155,
   "id": "0913fff8-2161-458d-bc43-5e8ac9fe4199",
   "metadata": {},
   "outputs": [
    {
     "name": "stdout",
     "output_type": "stream",
     "text": [
      "I eat 3 apples.\n"
     ]
    }
   ],
   "source": [
    "# 포맷문자열 포매팅\n",
    "'''I eat 3 apples.'''\n",
    "head = 'I eat '\n",
    "tail = ' apples.'\n",
    "#print(head + 3 + tail)\n",
    "cnt = 3\n",
    "print('I eat %d apples.' % cnt) # %d : decimal(십진수:정수), %s : string, %f : float, %c : charector "
   ]
  },
  {
   "cell_type": "code",
   "execution_count": 157,
   "id": "5031b553-fbfa-436a-9ce6-bcb19fd25b16",
   "metadata": {},
   "outputs": [
    {
     "name": "stdout",
     "output_type": "stream",
     "text": [
      "I ate 10 apples. so I was sick for three days\n"
     ]
    }
   ],
   "source": [
    "'''I ate 10 apples. so I was sick for three days'''\n",
    "number = 10\n",
    "day = 'three'\n",
    "print('I ate %d apples. so I was sick for %s days' % (number, day))"
   ]
  },
  {
   "cell_type": "code",
   "execution_count": 167,
   "id": "a847f5a6-f96a-4858-a642-396369582c7c",
   "metadata": {},
   "outputs": [
    {
     "name": "stdout",
     "output_type": "stream",
     "text": [
      "이숭무의 나이는 20살이고 키는 175.300000입니다\n",
      "이숭무의 나이는 20살이고 키는 175.3입니다\n",
      "이숭무의 나이는 20살이고 키는 175.3입니다\n",
      "이숭무의 나이는 20살이고 키는 175.3입니다\n",
      "이숭무의 나이는 20살이고 키는 175.3입니다\n"
     ]
    }
   ],
   "source": [
    "\"이숭무의 나이는 20살이고 키는 175.3입니다\"\n",
    "age = 20\n",
    "height = 175.3\n",
    "print(\"이숭무의 나이는 %d살이고 키는 %f입니다\" % (age, height))\n",
    "print(\"이숭무의 나이는 %d살이고 키는 %5.1f입니다\" % (age, height))\n",
    "print(\"이숭무의 나이는 %d살이고 키는 %4.1f입니다\" % (age, height))\n",
    "print(\"이숭무의 나이는 %d살이고 키는 %.1f입니다\" % (age, height))\n",
    "print(\"이숭무의 나이는 %s살이고 키는 %s입니다\" % (age, height))"
   ]
  },
  {
   "cell_type": "code",
   "execution_count": 175,
   "id": "04067c5c-9a5f-46b9-b85f-3c6c02b803f2",
   "metadata": {},
   "outputs": [
    {
     "name": "stdout",
     "output_type": "stream",
     "text": [
      "나의 이름은        이숭무이고 나이는         20살이고 키는      175.3입니다\n",
      "나의 이름은 이숭무       이고 나이는         20살이고 키는      175.3입니다\n",
      "나의 이름은 이숭무       이고 나이는         20살이고 키는 175.3     입니다\n"
     ]
    }
   ],
   "source": [
    "# 정렬 : -는 왼쪽정렬, +는 오른쪽 정렬 \n",
    "print(\"나의 이름은 %10s이고 나이는 %10d살이고 키는 %10.1f입니다\" % ('이숭무' ,age, height))\n",
    "print(\"나의 이름은 %-10s이고 나이는 %10d살이고 키는 %10.1f입니다\" % ('이숭무' ,age, height))\n",
    "print(\"나의 이름은 %-10s이고 나이는 %10d살이고 키는 %-10.1f입니다\" % ('이숭무' ,age, height))"
   ]
  },
  {
   "cell_type": "code",
   "execution_count": 180,
   "id": "47923a2a-2efe-46e2-92bd-86e68ba420ca",
   "metadata": {},
   "outputs": [
    {
     "name": "stdout",
     "output_type": "stream",
     "text": [
      "이숭무의 나이는 20살이고 키는 175.3입니다\n",
      "이숭무의 나이는 20살이고 이숭무의 키는 175.3입니다\n",
      "이숭무의 나이는 20살이고 이숭무의 키는 175.300000입니다\n",
      "이숭무의 나이는 20살이고 이숭무의 키는 175.300000입니다\n"
     ]
    }
   ],
   "source": [
    "# format 함수를 사용한 포매팅 : format(), print(),str()\n",
    "\"이숭무의 나이는 20살이고 키는 175.3입니다\"\n",
    "age = 20\n",
    "height = 175.3\n",
    "name = '이숭무'\n",
    "print(\"{2}의 나이는 {1}살이고 키는 {0}입니다\".format(height,age,name))\n",
    "#                                                     0    1   2\n",
    "print(\"{2}의 나이는 {1}살이고 {2}의 키는 {0}입니다\".format(height,age,name))\n",
    "print(\"%s의 나이는 %d살이고 %s의 키는 %f입니다\" % (name, age, name, height))\n",
    "str2 = \"%s의 나이는 %d살이고 %s의 키는 %f입니다\" % (name, age, name, height)\n",
    "print(str2)"
   ]
  },
  {
   "cell_type": "code",
   "execution_count": 192,
   "id": "01b5a747-0c8f-4b38-a569-e375b11545fe",
   "metadata": {},
   "outputs": [
    {
     "name": "stdout",
     "output_type": "stream",
     "text": [
      "이숭무의 나이는 20살이고 키는 175.3입니다\n",
      "이숭무의 나이는 20살이고 키는 175.3입니다\n",
      "이숭무의 나이는 20살이고 키는 175.3입니다\n",
      "이숭무의 나이는 20살이고 키는 175.3입니다\n",
      "이숭무의 나이는 20살이고 키는 175.3입니다\n",
      "이숭무의 나이는 20살이고 키는 175.3입니다\n"
     ]
    }
   ],
   "source": [
    "# format함수에 이름으로 넣기\n",
    "'''이숭무의 나이는 20살이고 키는 175.3입니다'''\n",
    "print(\"{2}의 나이는 {1}살이고 키는 {0}입니다\".format(175.3,20,'이숭무'))\n",
    "print(\"{2}의 나이는 {1}살이고 키는 {0}입니다\".format(height,age,'이숭무'))\n",
    "print(\"{n}의 나이는 {1}살이고 키는 {0}입니다\".format(height,age, n = '이숭무'))\n",
    "print(\"{2}의 나이는 {1}살이고 키는 {0}입니다\".format(height,age, name))\n",
    "print(\"{n}의 나이는 {1}살이고 키는 {0}입니다\".format(height,age, n= name))\n",
    "#print(\"{1}의 나이는 {a}살이고 키는 {0}입니다\".format(height, a = age, name))\n",
    "print(\"{n}의 나이는 {a}살이고 키는 {0}입니다\".format(height,a = age, n= name))"
   ]
  },
  {
   "cell_type": "code",
   "execution_count": 209,
   "id": "68248871-c928-4376-b78b-9c6a246f0d2e",
   "metadata": {},
   "outputs": [
    {
     "name": "stdout",
     "output_type": "stream",
     "text": [
      "이숭무의 나이는 20살이고 키는 175.3입니다\n",
      "이숭무       의 나이는         20살이고 키는      175.3입니다\n",
      "       이숭무의 나이는         20살이고 키는      175.3입니다\n",
      "이숭무       의 나이는 20        살이고 키는 175.3     입니다\n",
      "   이숭무    의 나이는     20    살이고 키는   175.3   입니다\n",
      "이숭무       의 나이는 !!!!!!!!20살이고 키는 @@@@@175.3입니다\n",
      "{이숭무}의 나이는 20살이고 키는 175.3입니다\n"
     ]
    }
   ],
   "source": [
    "#format함수를 이용한 정렬\n",
    "print(\"{2}의 나이는 {1}살이고 키는 {0}입니다\".format(height,age, name))\n",
    "print(\"{2:10}의 나이는 {1:10}살이고 키는 {0:10}입니다\".format(height,age, name))\n",
    "print(\"{2:>10}의 나이는 {1:>10}살이고 키는 {0:10}입니다\".format(height,age, name))\n",
    "print(\"{2:10}의 나이는 {1:<10}살이고 키는 {0:<10}입니다\".format(height,age, name))\n",
    "print(\"{2:^10}의 나이는 {1:^10}살이고 키는 {0:^10}입니다\".format(height,age, name))\n",
    "print(\"{2:10}의 나이는 {1:!>10}살이고 키는 {0:@>10}입니다\".format(height,age, name))\n",
    "# print(\"{이숭무}의 나이는 {1}살이고 키는 {0}입니다\".format(height,age))\n",
    "print(\"{{이숭무}}의 나이는 {1}살이고 키는 {0}입니다\".format(height,age))"
   ]
  },
  {
   "cell_type": "code",
   "execution_count": 212,
   "id": "47290c67-bc3f-448f-a4fc-8755b61da785",
   "metadata": {},
   "outputs": [
    {
     "name": "stdout",
     "output_type": "stream",
     "text": [
      "이숭무의 나이는 20살이고 이숭무의 키는 175.3입니다\n",
      "이숭무의 나이는 20살이고 이숭무의 키는 175.3입니다\n"
     ]
    }
   ],
   "source": [
    "#f 문자열 포매팅\n",
    "'''이숭무의 나이는 20살이고 이숭무의 키는 175.3입니다'''\n",
    "print(f'{name}의 나이는 {age}살이고 {name}의 키는 {height}입니다')\n",
    "result = f'{name}의 나이는 {age}살이고 {name}의 키는 {height}입니다'\n",
    "print(result)\n",
    "## 포매팅 : 포맷문자, format(), f문자"
   ]
  },
  {
   "cell_type": "code",
   "execution_count": 221,
   "id": "d1c2a512-13e1-4391-88aa-8f88518537bb",
   "metadata": {},
   "outputs": [
    {
     "name": "stdout",
     "output_type": "stream",
     "text": [
      "hobby\n",
      "5\n",
      "2\n",
      "2\n",
      "이숭무의 나이는 20살이고 이숭무의 키는 175.300000입니다\n",
      "2\n"
     ]
    }
   ],
   "source": [
    "# 문자열 가공 : 문자열 함수\n",
    "a = \"hobby\"\n",
    "print(a)\n",
    "print(len(a))\n",
    "# 특정문자의 갯수\n",
    "# b가 몇개\n",
    "print(a.count('b'))\n",
    "print(\"hobby\".count('b'))\n",
    "print(str2)\n",
    "'''이숭무가 몇개'''\n",
    "print(str2.count('이숭무'))"
   ]
  },
  {
   "cell_type": "code",
   "execution_count": 235,
   "id": "01015c18-76e7-4522-aa5a-44a2e0b596e2",
   "metadata": {},
   "outputs": [
    {
     "name": "stdout",
     "output_type": "stream",
     "text": [
      "short\n",
      "12\n",
      "short\n",
      "12\n",
      "short\n",
      "Lite is too short, You need python\n",
      "6\n",
      "s too\n",
      "short\n",
      "short\n"
     ]
    }
   ],
   "source": [
    "'''short'''\n",
    "print(str1[12:12+5])\n",
    "print(str1.index('short'))\n",
    "print(str1[str1.index('short'):str1.index('short')+5])\n",
    "idx = str1.index('short')\n",
    "print(idx)\n",
    "print(str1[idx:idx+5])\n",
    "print(str1)\n",
    "idx = str1.index('s')\n",
    "print(idx)\n",
    "print(str1[idx:idx+5])\n",
    "\n",
    "'''\n",
    "idx = str1.index('s', 7)\n",
    "print(str1[idx:idx+5])\n",
    "'''\n",
    "idx = str1.index('s', idx + 1)\n",
    "print(str1[idx:idx+5])\n",
    "\n",
    "idx = str1.rindex('s')\n",
    "print(str1[idx:idx+5])"
   ]
  },
  {
   "cell_type": "code",
   "execution_count": 242,
   "id": "2f1572a7-aa27-4898-8de0-366e2cf3cc62",
   "metadata": {},
   "outputs": [
    {
     "name": "stdout",
     "output_type": "stream",
     "text": [
      "Lite is too short, You need python\n",
      "12\n",
      "12\n",
      "6\n",
      "12\n",
      "-1\n"
     ]
    }
   ],
   "source": [
    "# find = index처럼 문자열의 index를 가져온다.\n",
    "print(str1)\n",
    "print(str1.index('short'))\n",
    "print(str1.find('short'))\n",
    "print(str1.find('s'))\n",
    "print(str1.rfind('s'))\n",
    "# print(str1.index('zoo'))\n",
    "print(str1.find('zoo')) # -1\n",
    "# Lite is too short, You need python\n",
    "# 01234567..."
   ]
  },
  {
   "cell_type": "code",
   "execution_count": 246,
   "id": "04e4a176-c4be-4ecc-8e91-fde29a8f3298",
   "metadata": {},
   "outputs": [
    {
     "name": "stdout",
     "output_type": "stream",
     "text": [
      "Lite is too short, You need python\n",
      "lite is too short, you need python\n",
      "LITE IS TOO SHORT, YOU NEED PYTHON\n",
      "Lite is too short, you need python\n"
     ]
    }
   ],
   "source": [
    "# 문자열을 모두 소문자로 출력\n",
    "print(str1)\n",
    "print(str1.lower())\n",
    "# 문자열을 모두 대문자로 출력\n",
    "print(str1.upper())\n",
    "# 문자열의 첫글자만 대문\n",
    "print(str1.capitalize())"
   ]
  },
  {
   "cell_type": "code",
   "execution_count": 253,
   "id": "4c9ab16d-fe0c-4f9b-ba39-530524d7b6f1",
   "metadata": {},
   "outputs": [
    {
     "name": "stdout",
     "output_type": "stream",
     "text": [
      "다르다\n"
     ]
    }
   ],
   "source": [
    "str3 = \"    highalnd0     \"\n",
    "if str3 == \"highalnd0\":\n",
    "    print(\"같다\")\n",
    "else:\n",
    "    print(\"다르다\")    "
   ]
  },
  {
   "cell_type": "code",
   "execution_count": 261,
   "id": "69d82de1-9dc9-487d-8dfc-707a5086f446",
   "metadata": {},
   "outputs": [
    {
     "name": "stdout",
     "output_type": "stream",
     "text": [
      "abcdLife is too shortcdab\n",
      "abcdLife is too shortcdab\n",
      "다르다\n",
      "Life is too short\n",
      "   Life is too short\n",
      "Life is too short    \n",
      "Life is too short\n"
     ]
    }
   ],
   "source": [
    "print(str3)\n",
    "print(str3.strip()) ### trim()\n",
    "if str3.strip() == \"highalnd0\":\n",
    "    print(\"같다\")\n",
    "else:\n",
    "    print(\"다르다\")     \n",
    "str3 = \"   Life is too short    \"; \n",
    "print(str3.strip())\n",
    "print(str3.rstrip())\n",
    "print(str3.lstrip())\n",
    "str3 = \"abcdLife is too shortcdab\";\n",
    "print(str3.strip('ab').strip('cd'));"
   ]
  },
  {
   "cell_type": "code",
   "execution_count": 267,
   "id": "32c71312-b638-4fe5-8186-8af4bc46b540",
   "metadata": {},
   "outputs": [
    {
     "name": "stdout",
     "output_type": "stream",
     "text": [
      "Life is too short\n",
      "Your leg is too short\n"
     ]
    }
   ],
   "source": [
    "#### 문자열 대체하기\n",
    "str1 = \"Life is too short\"\n",
    "'''Your leg is too short'''\n",
    "str2 = str1.replace('Life','Your leg');\n",
    "print(str1)\n",
    "print(str2)"
   ]
  },
  {
   "cell_type": "code",
   "execution_count": 273,
   "id": "f5de8000-3c20-45c4-a292-e03b05f1011c",
   "metadata": {},
   "outputs": [
    {
     "name": "stdout",
     "output_type": "stream",
     "text": [
      "['Life', 'is', 'too', 'short']\n",
      "['Life', 'is', 'too', 'short']\n",
      "['Life:is-too:short']\n"
     ]
    }
   ],
   "source": [
    "# 쪼개기 : split : 결과는 리스트가 된다.\n",
    "str1 = \"Life is too short\"\n",
    "str2 = str1.split() # ['Life', 'is', 'too', 'short'] : 리스트\n",
    "print(str2)\n",
    "str1 = \"Life:is:too:short\"\n",
    "str2 = str1.split(\":\") \n",
    "print(str2)"
   ]
  },
  {
   "cell_type": "code",
   "execution_count": null,
   "id": "0511066d-79cd-4479-99e8-01b836b5e8eb",
   "metadata": {},
   "outputs": [],
   "source": []
  }
 ],
 "metadata": {
  "kernelspec": {
   "display_name": "Python 3 (ipykernel)",
   "language": "python",
   "name": "python3"
  },
  "language_info": {
   "codemirror_mode": {
    "name": "ipython",
    "version": 3
   },
   "file_extension": ".py",
   "mimetype": "text/x-python",
   "name": "python",
   "nbconvert_exporter": "python",
   "pygments_lexer": "ipython3",
   "version": "3.12.3"
  }
 },
 "nbformat": 4,
 "nbformat_minor": 5
}
