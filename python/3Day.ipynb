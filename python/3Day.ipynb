{
 "cells": [
  {
   "cell_type": "code",
   "execution_count": 2,
   "id": "a7c68424-ae04-4663-8f64-08d2d5a8625a",
   "metadata": {},
   "outputs": [
    {
     "name": "stdout",
     "output_type": "stream",
     "text": [
      "합격\n"
     ]
    }
   ],
   "source": [
    "# 이때 각 과목의 점수는 40이상이어야 하며 평균은 60점이상 이어야 한다.\n",
    "# 조건에 만족하면 합격 아니면 불합격 , 수학 , 영어, 국어\n",
    "mat = 40\n",
    "eng = 60\n",
    "kor = 90\n",
    "if kor >= 40 and eng >= 40 and mat >= 40 and  (mat+eng+kor) / 3 >= 60:\n",
    "    print(\"합격\")\n",
    "else:\n",
    "    print(\"불합격\")"
   ]
  },
  {
   "cell_type": "code",
   "execution_count": 17,
   "id": "1996a00f-c16f-4e9f-9b5e-c3ec0fb5e0c4",
   "metadata": {},
   "outputs": [
    {
     "name": "stdout",
     "output_type": "stream",
     "text": [
      "True\n",
      "False\n",
      "True\n",
      "True\n",
      "True\n",
      "True\n",
      "False\n",
      "True\n",
      "True\n",
      "False\n",
      "True\n",
      "False\n",
      "True\n",
      "True\n"
     ]
    }
   ],
   "source": [
    "#in연산자 사용하기 : 포함되어 있는지  포함되어 있지 않은지 확인\n",
    "print(5 in [1,2,3,4,5,6])\n",
    "print(7 in [1,2,3,4,5,6])\n",
    "print(7 not in [1,2,3,4,5,6])\n",
    "l = [1,2,3,4,5,6]\n",
    "print(5 in l)\n",
    "print(7 not in l)\n",
    "print('y' in 'python')\n",
    "print('이숭무' in 'python')\n",
    "print('이숭무' not in 'python')\n",
    "print('th'  in 'python')\n",
    "print('th' not in 'python')\n",
    "print(5 in (1,2,3,4,5,6))\n",
    "print(3 in {1:'이',2:'숭'})\n",
    "print(2 in {1:'이',2:'숭'})\n",
    "dic = {1:'이',2:'숭'}\n",
    "print(2 in dic)"
   ]
  },
  {
   "cell_type": "code",
   "execution_count": 18,
   "id": "d47bdd3f-54a3-49d0-b10b-d2715fe9c12e",
   "metadata": {},
   "outputs": [
    {
     "name": "stdout",
     "output_type": "stream",
     "text": [
      "5는 리스트에 포함되어 있다\n",
      "\n"
     ]
    }
   ],
   "source": [
    "if 5 in [1,2,3,4,5]:\n",
    "    print(\"5는 리스트에 포함되어 있다\")\n",
    "else:\n",
    "    print(\"5는 리스트에 포함되어 있지 않다\")\n",
    "\n",
    "pocket = ['paper', 'cellphone', 'money']\n",
    "if 'paper' in pocket:\n",
    "    print(\"지값에는 지폐가 있다\")\n",
    "else:\n",
    "    print(\"지값에는 지폐가 없다\");\n",
    "\n",
    "if 'paper' not in pocket:\n",
    "    print(\"지값에는 지폐가 없다\");\n",
    "else:\n",
    "     print(\"지값에는 지폐가 있다\");"
   ]
  },
  {
   "cell_type": "code",
   "execution_count": null,
   "id": "084e9757-5a1c-4507-925c-8495e5e6aae3",
   "metadata": {},
   "outputs": [],
   "source": [
    "# 조건이 여러개인 경우\n",
    "# 학점(score)이 90이상이면 A, 80이상이면 B, 70이상이면 C, 60이상이면 D, 그렇지 않으면 F\n",
    "score = 79\n",
    "if score >= 90:\n",
    "    print(\"A\")\n",
    "else: # 89 ~ 0\n",
    "    if score >= 80 :\n",
    "        print(\"B\")\n",
    "    else: # 79 ~ 0\n",
    "        if score >= 70:\n",
    "            print(\"C\")\n",
    "        else: # 69 ~ 0\n",
    "            if score >= 60:\n",
    "                print(\"D\")\n",
    "            else: # 59 ~ 0\n",
    "                print(\"F\")"
   ]
  },
  {
   "cell_type": "code",
   "execution_count": null,
   "id": "fdcbadb5-a187-45d2-9fd8-cc209c94027a",
   "metadata": {},
   "outputs": [],
   "source": [
    "score = 79\n",
    "if score >= 90:\n",
    "    print(\"A\")\n",
    "elif score >= 80 :\n",
    "    print(\"B\")\n",
    "elif score >= 70:\n",
    "    print(\"C\")\n",
    "elif score >= 60:\n",
    "    print(\"D\")\n",
    "else: # 59 ~ 0\n",
    "    print(\"F\")"
   ]
  },
  {
   "cell_type": "code",
   "execution_count": 22,
   "id": "4704452b-0921-43e2-a98d-287ec55928e5",
   "metadata": {},
   "outputs": [
    {
     "name": "stdout",
     "output_type": "stream",
     "text": [
      "success\n",
      "success\n"
     ]
    }
   ],
   "source": [
    "score = 79\n",
    "if score >= 60:\n",
    "    message = \"success\"\n",
    "else:\n",
    "    message = \"failure\"\n",
    "print(message)\n",
    "#파이썬에서 사용하는 방식\n",
    "message = \"success\" if score >= 60 else \"failure\"\n",
    "print(message)"
   ]
  },
  {
   "cell_type": "code",
   "execution_count": 24,
   "id": "0a315c07-29ab-4f30-89b0-f8b7db4b91d5",
   "metadata": {},
   "outputs": [
    {
     "name": "stdout",
     "output_type": "stream",
     "text": [
      "C\n",
      "C\n"
     ]
    }
   ],
   "source": [
    "score = 79\n",
    "if score >= 90:\n",
    "    message = \"A\"\n",
    "else: # 89 ~ 0\n",
    "    if score >= 80 :\n",
    "        message = \"B\"\n",
    "    else: # 79 ~ 0\n",
    "        if score >= 70:\n",
    "            message = \"C\"\n",
    "        else: # 69 ~ 0\n",
    "            if score >= 60:\n",
    "                message = \"D\"\n",
    "            else: # 59 ~ 0\n",
    "                message = \"F\"\n",
    "print(message)\n",
    "message = \"A\" if score >= 90 else(\n",
    "          \"B\" if score >= 80 else(\n",
    "          \"C\" if score >= 70 else(\n",
    "          \"D\" if score >= 60 else( \"F\"\n",
    "          ))))\n",
    "print(message)"
   ]
  },
  {
   "cell_type": "code",
   "execution_count": 27,
   "id": "9eb27d4d-dc30-4c57-addd-b7587516756c",
   "metadata": {},
   "outputs": [
    {
     "name": "stdout",
     "output_type": "stream",
     "text": [
      "-10\n",
      "-10\n"
     ]
    }
   ],
   "source": [
    "# if문을 이용한 사직연산 \n",
    "a = 10; b = 20; opt = \"sub\"\n",
    "if opt == \"add\":\n",
    "    message = a + b\n",
    "elif opt == \"sub\":\n",
    "    message = a - b\n",
    "elif opt == \"mul\":\n",
    "    message = a * b\n",
    "else:\n",
    "    message = a / b\n",
    "print(message)\n",
    "# python style\n",
    "message = a + b if opt == \"add\" else(\n",
    "          a - b if opt == \"sub\" else(\n",
    "          a * b if opt == \"mul\" else( \n",
    "          a / b \n",
    "          )))\n",
    "print(message)"
   ]
  },
  {
   "cell_type": "code",
   "execution_count": 33,
   "id": "708bdeb4-9a1b-4e82-8035-16e10d04af70",
   "metadata": {},
   "outputs": [
    {
     "name": "stdout",
     "output_type": "stream",
     "text": [
      "8 * 1 = 8\n",
      "8 * 2 = 16\n",
      "8 * 3 = 24\n",
      "8 * 4 = 32\n",
      "8 * 5 = 40\n",
      "8 * 6 = 48\n",
      "8 * 7 = 56\n",
      "8 * 8 = 64\n",
      "8 * 9 = 72\n",
      "8 * 1 = 8\n",
      "8 * 2 = 16\n",
      "8 * 3 = 24\n",
      "8 * 4 = 32\n",
      "8 * 5 = 40\n",
      "8 * 6 = 48\n",
      "8 * 7 = 56\n",
      "8 * 8 = 64\n",
      "8 * 9 = 72\n"
     ]
    }
   ],
   "source": [
    "print(f\"8 * 1 = {8 * 1}\")\n",
    "print(f\"8 * 2 = {8 * 2}\")\n",
    "print(f\"8 * 3 = {8 * 3}\")\n",
    "print(f\"8 * 4 = {8 * 4}\")\n",
    "print(f\"8 * 5 = {8 * 5}\")\n",
    "print(f\"8 * 6 = {8 * 6}\")\n",
    "print(f\"8 * 7 = {8 * 7}\")\n",
    "print(f\"8 * 8 = {8 * 8}\")\n",
    "print(f\"8 * 9 = {8 * 9}\")\n",
    "start = 1\n",
    "while start <= 9:\n",
    "    print(f\"8 * {start} = {8 * start}\")\n",
    "    start += 1"
   ]
  },
  {
   "cell_type": "code",
   "execution_count": 38,
   "id": "43fbba3e-c8ee-4592-879a-6f731bac7ce5",
   "metadata": {},
   "outputs": [
    {
     "name": "stdin",
     "output_type": "stream",
     "text": [
      "시작 숫자를 입력하세요 :  4\n",
      "마지막 숫자를 입력하세요 :  8\n"
     ]
    },
    {
     "name": "stdout",
     "output_type": "stream",
     "text": [
      "8 * 4 = 32\n",
      "8 * 5 = 40\n",
      "8 * 6 = 48\n",
      "8 * 7 = 56\n",
      "8 * 8 = 64\n"
     ]
    }
   ],
   "source": [
    "start = int(input(\"시작 숫자를 입력하세요 : \"))\n",
    "end = int(input(\"마지막 숫자를 입력하세요 : \"))\n",
    "while start <= end:\n",
    "    print(f\"8 * {start} = {8 * start}\")\n",
    "    start += 1"
   ]
  },
  {
   "cell_type": "code",
   "execution_count": 40,
   "id": "5a5462f9-65c2-4285-a901-1458ad3a965a",
   "metadata": {},
   "outputs": [
    {
     "name": "stdin",
     "output_type": "stream",
     "text": [
      "단을 입력해주세요 :  4\n",
      "시작 숫자를 입력하세요 :  5\n",
      "마지막 숫자를 입력하세요 :  7\n"
     ]
    },
    {
     "name": "stdout",
     "output_type": "stream",
     "text": [
      "4 * 5 = 20\n",
      "4 * 6 = 24\n",
      "4 * 7 = 28\n"
     ]
    }
   ],
   "source": [
    "dan = int(input(\"단을 입력해주세요 : \"))\n",
    "start = int(input(\"시작 숫자를 입력하세요 : \"))\n",
    "end = int(input(\"마지막 숫자를 입력하세요 : \"))\n",
    "while start <= end:\n",
    "    print(f\"{dan} * {start} = {dan * start}\")\n",
    "    start += 1"
   ]
  },
  {
   "cell_type": "code",
   "execution_count": 88,
   "id": "4c2fafd0-870f-4104-a774-45be4f1f8178",
   "metadata": {
    "scrolled": true
   },
   "outputs": [
    {
     "name": "stdout",
     "output_type": "stream",
     "text": [
      "[1, 2, 3, 4, 5, 6, 7, 8, 9, 10, 11, 12, 13, 14, 15, 16, 17, 18, 19, 20, 21, 22, 23, 24, 25, 26, 27, 28, 29, 30, 31, 32, 33, 34, 35, 36, 37, 38, 39, 40, 41, 42, 43, 44, 45]\n",
      "9, 29, 7, 5, 14, 43, "
     ]
    }
   ],
   "source": [
    "# 비복원 추출\n",
    "import random\n",
    "lotto = []\n",
    "start = 1\n",
    "while start <= 45:\n",
    "    lotto.append(start)\n",
    "    start += 1\n",
    "print(lotto)\n",
    "size = len(lotto) # 45\n",
    "i = 1\n",
    "while i <= 6:\n",
    "    size -= 1\n",
    "    idx = random.randint(0, size)\n",
    "    result = lotto.pop(idx)\n",
    "    print(result , end = \", \")\n",
    "    i += 1"
   ]
  },
  {
   "cell_type": "code",
   "execution_count": 50,
   "id": "b69003c5-d854-4ce3-9ece-90728c2d1518",
   "metadata": {},
   "outputs": [
    {
     "name": "stdout",
     "output_type": "stream",
     "text": [
      "3 * 1 = 3\n",
      "3 * 2 = 6\n",
      "3 * 3 = 9\n",
      "3 * 4 = 12\n",
      "3 * 5 = 15\n",
      "3 * 6 = 18\n",
      "3 * 7 = 21\n",
      "3 * 8 = 24\n",
      "3 * 9 = 27\n",
      "4 * 1 = 4\n",
      "4 * 2 = 8\n",
      "4 * 3 = 12\n",
      "4 * 4 = 16\n",
      "4 * 5 = 20\n",
      "4 * 6 = 24\n",
      "4 * 7 = 28\n",
      "4 * 8 = 32\n",
      "4 * 9 = 36\n",
      "5 * 1 = 5\n",
      "5 * 2 = 10\n",
      "5 * 3 = 15\n",
      "5 * 4 = 20\n",
      "5 * 5 = 25\n",
      "5 * 6 = 30\n",
      "5 * 7 = 35\n",
      "5 * 8 = 40\n",
      "5 * 9 = 45\n"
     ]
    }
   ],
   "source": [
    "#3단\n",
    "start = 1\n",
    "while start <= 9:\n",
    "    print(f\"3 * {start} = {3 * start}\")\n",
    "    start += 1\n",
    "#4단\n",
    "start = 1\n",
    "while start <= 9:\n",
    "    print(f\"4 * {start} = {4 * start}\")\n",
    "    start += 1\n",
    "#5단\n",
    "start = 1\n",
    "while start <= 9:\n",
    "    print(f\"5 * {start} = {5 * start}\")\n",
    "    start += 1"
   ]
  },
  {
   "cell_type": "code",
   "execution_count": 65,
   "id": "2863a040-d3d6-4964-bb28-5a4a1676791a",
   "metadata": {},
   "outputs": [
    {
     "name": "stdout",
     "output_type": "stream",
     "text": [
      "3 * 1 = 3\n",
      "3 * 2 = 6\n",
      "3 * 3 = 9\n",
      "3 * 4 = 12\n",
      "3 * 5 = 15\n",
      "3 * 6 = 18\n",
      "3 * 7 = 21\n",
      "3 * 8 = 24\n",
      "3 * 9 = 27\n",
      "4 * 1 = 4\n",
      "4 * 2 = 8\n",
      "4 * 3 = 12\n",
      "4 * 4 = 16\n",
      "4 * 5 = 20\n",
      "4 * 6 = 24\n",
      "4 * 7 = 28\n",
      "4 * 8 = 32\n",
      "4 * 9 = 36\n",
      "5 * 1 = 5\n",
      "5 * 2 = 10\n",
      "5 * 3 = 15\n",
      "5 * 4 = 20\n",
      "5 * 5 = 25\n",
      "5 * 6 = 30\n",
      "5 * 7 = 35\n",
      "5 * 8 = 40\n",
      "5 * 9 = 45\n"
     ]
    }
   ],
   "source": [
    "startDan = 3\n",
    "while startDan <= 5:\n",
    "    start = 1\n",
    "    while start <= 9:\n",
    "        print(f\"{startDan} * {start} = {startDan * start}\")\n",
    "        start += 1\n",
    "    startDan += 1"
   ]
  },
  {
   "cell_type": "code",
   "execution_count": 70,
   "id": "6c0b640d-0eba-4b1c-b3d3-7378029fd959",
   "metadata": {},
   "outputs": [
    {
     "name": "stdin",
     "output_type": "stream",
     "text": [
      "시작 단을 입력하세요 :  3\n",
      "마지막 단을 입력하세요 :  5\n",
      "시작 곱을 입력하세요 :  3\n",
      "마지막 곱을 입력하세요 :  6\n"
     ]
    },
    {
     "name": "stdout",
     "output_type": "stream",
     "text": [
      "3 * 3 = 9\n",
      "3 * 4 = 12\n",
      "3 * 5 = 15\n",
      "3 * 6 = 18\n",
      "4 * 3 = 12\n",
      "4 * 4 = 16\n",
      "4 * 5 = 20\n",
      "4 * 6 = 24\n",
      "5 * 3 = 15\n",
      "5 * 4 = 20\n",
      "5 * 5 = 25\n",
      "5 * 6 = 30\n"
     ]
    }
   ],
   "source": [
    "startDan = int(input(\"시작 단을 입력하세요 : \"))\n",
    "endDan = int(input(\"마지막 단을 입력하세요 : \"))\n",
    "startGop = int(input(\"시작 곱을 입력하세요 : \"))\n",
    "endGop = int(input(\"마지막 곱을 입력하세요 : \"))\n",
    "while startDan <= endDan:\n",
    "    start = startGop\n",
    "    while start <= endGop:\n",
    "        print(f\"{startDan} * {start} = {startDan * start}\")\n",
    "        start += 1\n",
    "    startDan += 1"
   ]
  },
  {
   "cell_type": "code",
   "execution_count": 76,
   "id": "67b58030-14c9-4aa6-89b4-f5e6b7cc12d9",
   "metadata": {},
   "outputs": [
    {
     "name": "stdout",
     "output_type": "stream",
     "text": [
      "5050\n",
      "2550\n",
      "============================================================\n",
      "2550\n"
     ]
    }
   ],
   "source": [
    "# 1 ~ 100\n",
    "i = 1\n",
    "sum = 0\n",
    "while i <= 100:\n",
    "    sum += i\n",
    "    i += 1\n",
    "print(sum)\n",
    "### 짝수의 합을 구하시오\n",
    "i = 1\n",
    "sum = 0 \n",
    "while i <= 100:\n",
    "    if i % 2 == 0:\n",
    "        sum += i\n",
    "    i += 1\n",
    "print(sum)\n",
    "print(\"==\" * 30)\n",
    "i = 0\n",
    "sum = 0 \n",
    "while i < 100:\n",
    "    i += 1\n",
    "    if i % 2 != 0:\n",
    "        continue\n",
    "    sum += i\n",
    "print(sum)"
   ]
  },
  {
   "cell_type": "code",
   "execution_count": 77,
   "id": "ac903fdd-b6df-44bb-b5e9-cdae9ab577ae",
   "metadata": {},
   "outputs": [
    {
     "name": "stdout",
     "output_type": "stream",
     "text": [
      "5050\n"
     ]
    }
   ],
   "source": [
    "i = 1\n",
    "sum = 0\n",
    "while True: #  무한루프\n",
    "    if i == 101 :\n",
    "        break\n",
    "    sum += i\n",
    "    i += 1\n",
    "print(sum)"
   ]
  },
  {
   "cell_type": "code",
   "execution_count": 79,
   "id": "6ec97056-fdba-43a5-af5a-11c81d037358",
   "metadata": {},
   "outputs": [],
   "source": [
    "del sum"
   ]
  },
  {
   "cell_type": "code",
   "execution_count": 84,
   "id": "4870ec30-6b82-49da-a2be-9e24efcd8a26",
   "metadata": {},
   "outputs": [
    {
     "name": "stdout",
     "output_type": "stream",
     "text": [
      "1387\n",
      "==== while ====\n",
      "1387\n",
      "==== for =====\n",
      "1387\n",
      "==== for : range =====\n",
      "1387\n"
     ]
    }
   ],
   "source": [
    "###  for문\n",
    "l = [11,223,99,887,78,89]\n",
    "#     0  1   2  3   4  5\n",
    "result = sum(l)\n",
    "print(result)\n",
    "print(\"==== while ====\")\n",
    "i = 0\n",
    "sum1 = 0\n",
    "while i < len(l):\n",
    "    sum1 += l[i]\n",
    "    i += 1\n",
    "print(sum1)\n",
    "print(\"==== for =====\") #for each\n",
    "sum1 = 0\n",
    "for num in l: # [11,223,99,887,78,89]\n",
    "    sum1 += num\n",
    "print(sum1)\n",
    "print(\"==== for : range =====\")\n",
    "sum1 = 0\n",
    "for idx in range(0, len(l)):\n",
    "    sum1 += l[idx]\n",
    "print(sum1)    "
   ]
  },
  {
   "cell_type": "code",
   "execution_count": 90,
   "id": "2f57dc64-4d26-4bb3-b971-3f53351e7395",
   "metadata": {},
   "outputs": [
    {
     "name": "stdout",
     "output_type": "stream",
     "text": [
      "3 * 1 = 3\n",
      "3 * 2 = 6\n",
      "3 * 3 = 9\n",
      "3 * 4 = 12\n",
      "3 * 5 = 15\n",
      "3 * 6 = 18\n",
      "3 * 7 = 21\n",
      "3 * 8 = 24\n",
      "3 * 9 = 27\n",
      "=== for ===\n",
      "3 * 1 = 3\n",
      "3 * 2 = 6\n",
      "3 * 3 = 9\n",
      "3 * 4 = 12\n",
      "3 * 5 = 15\n",
      "3 * 6 = 18\n",
      "3 * 7 = 21\n",
      "3 * 8 = 24\n",
      "3 * 9 = 27\n"
     ]
    }
   ],
   "source": [
    "start = 1\n",
    "while start <= 9:\n",
    "    print(f\"3 * {start} = {3 * start}\")\n",
    "    start += 1\n",
    "\n",
    "print(\"=== for ===\")\n",
    "\n",
    "for gop in range(1, 9 + 1):\n",
    "    print(f\"3 * {gop} = {3 * gop}\")"
   ]
  },
  {
   "cell_type": "code",
   "execution_count": 93,
   "id": "bb4a6e85-3b2f-4f87-acdb-37e845356475",
   "metadata": {},
   "outputs": [
    {
     "name": "stdin",
     "output_type": "stream",
     "text": [
      "단 입력해 주세요. :  3\n",
      "시작 숫자를 입력해 주세요. :  4\n",
      "마지막 숫자를 입력해 주세요. :  5\n"
     ]
    },
    {
     "name": "stdout",
     "output_type": "stream",
     "text": [
      "3 * 4 = 12\n",
      "3 * 5 = 15\n"
     ]
    }
   ],
   "source": [
    "dan = int(input(\"단 입력해 주세요. : \"))\n",
    "startGop = int(input(\"시작 숫자를 입력해 주세요. : \"))\n",
    "endGop = int(input(\"마지막 숫자를 입력해 주세요. : \"))\n",
    "for gop in range(startGop, endGop + 1):\n",
    "    print(f\"{dan} * {gop} = {dan * gop}\")"
   ]
  },
  {
   "cell_type": "code",
   "execution_count": 95,
   "id": "1eae8842-d541-426e-890e-d8d76d5672a6",
   "metadata": {},
   "outputs": [
    {
     "name": "stdout",
     "output_type": "stream",
     "text": [
      "[1, 2, 3, 4, 5, 6, 7, 8, 9, 10, 11, 12, 13, 14, 15, 16, 17, 18, 19, 20, 21, 22, 23, 24, 25, 26, 27, 28, 29, 30, 31, 32, 33, 34, 35, 36, 37, 38, 39, 40, 41, 42, 43, 44, 45]\n",
      "=== list comprehension ===\n",
      "[1, 2, 3, 4, 5, 6, 7, 8, 9, 10, 11, 12, 13, 14, 15, 16, 17, 18, 19, 20, 21, 22, 23, 24, 25, 26, 27, 28, 29, 30, 31, 32, 33, 34, 35, 36, 37, 38, 39, 40, 41, 42, 43, 44, 45]\n"
     ]
    }
   ],
   "source": [
    "lotto = []\n",
    "for num in range(1, 46):\n",
    "    lotto.append(num)\n",
    "print(lotto)\n",
    "\n",
    "print(\"=== list comprehension ===\")\n",
    "\n",
    "lotto = [num for num in range(1, 46) ] \n",
    "print(lotto)"
   ]
  },
  {
   "cell_type": "code",
   "execution_count": 120,
   "id": "05367c92-2c87-498c-8c57-ab61b1c70516",
   "metadata": {},
   "outputs": [
    {
     "name": "stdout",
     "output_type": "stream",
     "text": [
      "45\n",
      "35, 5, 17, 2, 8, 24, "
     ]
    }
   ],
   "source": [
    "import random\n",
    "lotto = [num for num in range(1, 46) ] \n",
    "size = len(lotto)\n",
    "print(size)\n",
    "for y in range(1 , 6 + 1 ):\n",
    "    size -= 1\n",
    "    idx = random.randint(0, size)\n",
    "    result = lotto.pop(idx)\n",
    "    print(result, end = \", \")"
   ]
  },
  {
   "cell_type": "code",
   "execution_count": 142,
   "id": "951e140e-7a6e-4366-8ab3-75554dcd7a52",
   "metadata": {},
   "outputs": [
    {
     "name": "stdin",
     "output_type": "stream",
     "text": [
      "구매 수량을 입력하세요. :  3\n"
     ]
    },
    {
     "name": "stdout",
     "output_type": "stream",
     "text": [
      "13, 38, 30, 32, 45, 9, \n",
      "24, 31, 5, 29, 32, 21, \n",
      "25, 10, 1, 15, 41, 40, \n"
     ]
    }
   ],
   "source": [
    "import random\n",
    "qty = int(input(\"구매 수량을 입력하세요. : \"))\n",
    "lotto = [] \n",
    "for cnt in range(1, qty + 1):\n",
    "    for i in range(1, 45 + 1):\n",
    "        lotto.append(i)   # 45\n",
    "    size = len(lotto)\n",
    "    for y in range(1 , 6 + 1 ):\n",
    "        size -= 1\n",
    "        idx = random.randint(0, size)\n",
    "        result = lotto.pop(idx)\n",
    "        print(result, end = \", \")  # 39\n",
    "    lotto.clear() # []\n",
    "    print()"
   ]
  },
  {
   "cell_type": "code",
   "execution_count": 144,
   "id": "3af157a6-d510-4d78-beb4-06e46b0a0a5e",
   "metadata": {},
   "outputs": [
    {
     "name": "stdout",
     "output_type": "stream",
     "text": [
      "[6, 12, 18, 24]\n",
      "=== list comprehension ===\n",
      "[6, 12, 18, 24]\n"
     ]
    }
   ],
   "source": [
    "t = 1,2,3,4,5,6,7,8,9\n",
    "l = []\n",
    "#튜플에 있는 값중 짝수만 3을 곱해서 리스트에 저장\n",
    "for num in t:\n",
    "    if num % 2 == 0:\n",
    "        l.append(num * 3)\n",
    "print(l)\n",
    "print(\"=== list comprehension ===\")\n",
    "l = [num * 3 for num in t if num % 2 == 0 ]\n",
    "print(l)"
   ]
  },
  {
   "cell_type": "code",
   "execution_count": 146,
   "id": "23b14f97-6125-487d-8751-f441110cce69",
   "metadata": {},
   "outputs": [
    {
     "name": "stdout",
     "output_type": "stream",
     "text": [
      "[3, 6, 9, 12, 15, 18, 21, 24, 27, 4, 8, 12, 16, 20, 24, 28, 32, 36, 5, 10, 15, 20, 25, 30, 35, 40, 45, 6, 12, 18, 24, 30, 36, 42, 48, 54]\n",
      "=== list comprehension ===\n",
      "[3, 6, 9, 12, 15, 18, 21, 24, 27, 4, 8, 12, 16, 20, 24, 28, 32, 36, 5, 10, 15, 20, 25, 30, 35, 40, 45, 6, 12, 18, 24, 30, 36, 42, 48, 54]\n"
     ]
    }
   ],
   "source": [
    "l = []\n",
    "for dan in range(3, 7):\n",
    "    for gop in range(1, 10):\n",
    "        l.append(dan * gop)\n",
    "print(l)\n",
    "print(\"=== list comprehension ===\")\n",
    "l = [dan * gop for dan in range(3, 7) \n",
    "               for gop in range(1, 10) ]\n",
    "print(l)"
   ]
  },
  {
   "cell_type": "code",
   "execution_count": 148,
   "id": "09a9146e-886c-457c-8253-4e98f466f73e",
   "metadata": {},
   "outputs": [
    {
     "name": "stdout",
     "output_type": "stream",
     "text": [
      "[6, 12, 18, 24, 4, 8, 12, 16, 20, 24, 28, 32, 36, 10, 20, 30, 40, 6, 12, 18, 24, 30, 36, 42, 48, 54]\n",
      "=== list comprehension ===\n",
      "[6, 12, 18, 24, 4, 8, 12, 16, 20, 24, 28, 32, 36, 10, 20, 30, 40, 6, 12, 18, 24, 30, 36, 42, 48, 54]\n"
     ]
    }
   ],
   "source": [
    "# 3~ 6단까지의 곱의 값이 짝수만 리스트에 추가\n",
    "l = []\n",
    "for dan in range(3, 7):\n",
    "    for gop in range(1, 10):\n",
    "        if dan * gop % 2 == 0:\n",
    "            l.append(dan * gop)\n",
    "print(l)\n",
    "print(\"=== list comprehension ===\")\n",
    "l = [ dan * gop for dan in range(3, 7) \n",
    "                for gop in range(1, 10) if dan * gop % 2 == 0 ]\n",
    "print(l)"
   ]
  },
  {
   "cell_type": "code",
   "execution_count": 153,
   "id": "3223af6b-1138-4ac7-b2be-56148cbacfa8",
   "metadata": {},
   "outputs": [
    {
     "name": "stdout",
     "output_type": "stream",
     "text": [
      "(1, 2)\n",
      "10 20\n",
      "10 20\n",
      "3 4\n",
      "7\n"
     ]
    }
   ],
   "source": [
    "l1 = [(1,2),(3,4),(5,6)]\n",
    "#       0     1     2\n",
    "print(l1[0])\n",
    "a, b =  10 , 20\n",
    "print(a, b)\n",
    "a, b =  (10 , 20)\n",
    "print(a, b)\n",
    "a, b = l1[1]\n",
    "print(a, b)\n",
    "print(a + b)"
   ]
  },
  {
   "cell_type": "code",
   "execution_count": 158,
   "id": "3be9e0da-f0f5-4e13-80fb-8301109f1907",
   "metadata": {},
   "outputs": [
    {
     "name": "stdout",
     "output_type": "stream",
     "text": [
      "(1, 2)\n",
      "(3, 4)\n",
      "(5, 6)\n",
      "(1, 2)\n",
      "(3, 4)\n",
      "(5, 6)\n",
      "1 2\n",
      "3\n",
      "3 4\n",
      "7\n",
      "5 6\n",
      "11\n"
     ]
    }
   ],
   "source": [
    "l1 = [(1,2),(3,4),(5,6)]\n",
    "print(l1[0])\n",
    "print(l1[1])\n",
    "print(l1[2])\n",
    "for t in l1:\n",
    "    print(t)\n",
    "for a, b in l1:\n",
    "    print(a, b)\n",
    "    print(a + b)"
   ]
  },
  {
   "cell_type": "code",
   "execution_count": 160,
   "id": "ebfdd0e2-d9b6-4cee-895d-4d513dc0712c",
   "metadata": {},
   "outputs": [],
   "source": [
    "# 함수 : x값의 변화에 따른 y값의 변화\n",
    "''''\n",
    "f(x) = 2x + 3 \n",
    "y = f(3)일때 y값은? y = 2 X 3 + 3 = 9   \n",
    "y = f(4)일때 y값은? y = 2 X 4 + 3 = 11\n",
    "'''\n",
    "def f(x):\n",
    "    return 2*x + 3 "
   ]
  },
  {
   "cell_type": "code",
   "execution_count": 162,
   "id": "f508419b-e014-4efc-95da-5bcc588aabc8",
   "metadata": {},
   "outputs": [
    {
     "name": "stdout",
     "output_type": "stream",
     "text": [
      "9\n",
      "11\n"
     ]
    }
   ],
   "source": [
    "y = f(3)\n",
    "print(y)\n",
    "y = f(4)\n",
    "print(y)"
   ]
  },
  {
   "cell_type": "code",
   "execution_count": 165,
   "id": "d6b6974d-8e87-4ee4-a697-597bba661a77",
   "metadata": {},
   "outputs": [],
   "source": [
    "'''\n",
    "f(x1, x2) = 3x1 + 5x2 + 4일 때\n",
    "y = f(3, 4)일때 y값은 ? y = 3 X 3 + 5 X 4 + 4 = 33\n",
    "'''\n",
    "def f(x1, x2):\n",
    "    return 3*x1 + 5*x2 + 4"
   ]
  },
  {
   "cell_type": "code",
   "execution_count": 166,
   "id": "56803f9b-1f12-451d-8220-eb46eb7bed46",
   "metadata": {},
   "outputs": [
    {
     "name": "stdout",
     "output_type": "stream",
     "text": [
      "33\n"
     ]
    }
   ],
   "source": [
    "y = f(3, 4)\n",
    "print(y)"
   ]
  },
  {
   "cell_type": "code",
   "execution_count": null,
   "id": "3a14f664-92aa-402f-9b21-c1a92fbcd7af",
   "metadata": {},
   "outputs": [],
   "source": [
    "'''함수 문법\n",
    "def 함수명(parameter1, parameter2, parameter3,..., parametr_n):\n",
    "    명령어1\n",
    "    명령어2\n",
    "    명령어3\n",
    "    ...\n",
    "    명령어n\n",
    "    return 결과값\n",
    "\n",
    "변수 = 함수명(argument1, argument2, argument3,..., argument_n)\n",
    "print(변수)\n",
    "'''"
   ]
  },
  {
   "cell_type": "code",
   "execution_count": 167,
   "id": "e164473f-914e-4ff1-b8c7-bc021089f606",
   "metadata": {},
   "outputs": [],
   "source": [
    "# parameter이름을 이용해서 값을 전달\n",
    "def sum12(start , end):\n",
    "    sum1 = 0\n",
    "    for num in range(start , end + 1):\n",
    "        sum1 += num\n",
    "    print(sum1)"
   ]
  },
  {
   "cell_type": "code",
   "execution_count": 169,
   "id": "501f9798-964f-423e-b83a-a17c97ec95a4",
   "metadata": {},
   "outputs": [
    {
     "name": "stdout",
     "output_type": "stream",
     "text": [
      "5050\n"
     ]
    }
   ],
   "source": [
    "sum12(1, 100)"
   ]
  },
  {
   "cell_type": "code",
   "execution_count": 170,
   "id": "46aef87a-e7cd-47c0-8cc0-78d6667b6ba3",
   "metadata": {},
   "outputs": [
    {
     "name": "stdout",
     "output_type": "stream",
     "text": [
      "5050\n"
     ]
    }
   ],
   "source": [
    "sum12(start = 1, end = 100)"
   ]
  },
  {
   "cell_type": "code",
   "execution_count": 171,
   "id": "6ba05cb6-62e6-41d2-9bb3-d3344c1289b2",
   "metadata": {},
   "outputs": [
    {
     "name": "stdout",
     "output_type": "stream",
     "text": [
      "5050\n"
     ]
    }
   ],
   "source": [
    "sum12(end = 100, start = 1)"
   ]
  },
  {
   "cell_type": "code",
   "execution_count": 172,
   "id": "dc583a44-c28e-4346-9d57-c5e49cd1ae78",
   "metadata": {},
   "outputs": [],
   "source": [
    "def calc(x1, x2, opt):\n",
    "    if opt == \"add\":\n",
    "        result = x1 + x2\n",
    "    elif opt == \"sub\":\n",
    "        result = x1 - x2\n",
    "    elif opt == \"mul\":\n",
    "        result = x1 * x2\n",
    "    else:\n",
    "        result = x1 / x2\n",
    "    return result"
   ]
  },
  {
   "cell_type": "code",
   "execution_count": null,
   "id": "0abec0ec-f74a-4945-b861-94c3b61188b1",
   "metadata": {},
   "outputs": [],
   "source": [
    "result = calc(10, 20, \"add\")\n",
    "print(result)"
   ]
  },
  {
   "cell_type": "code",
   "execution_count": null,
   "id": "1d59a1dc-c82e-44c8-9012-396229730557",
   "metadata": {},
   "outputs": [],
   "source": [
    "result = calc(x1 = 10, x2 = 20, opt=\"add\")\n",
    "print(result)"
   ]
  },
  {
   "cell_type": "code",
   "execution_count": null,
   "id": "7164972e-931d-4c70-8fde-bdb9ffcab91c",
   "metadata": {},
   "outputs": [],
   "source": [
    "result = calc(10, 20, opt=\"add\")\n",
    "print(result)"
   ]
  },
  {
   "cell_type": "code",
   "execution_count": null,
   "id": "446a0a43-ed3c-4313-9a81-f2f843669113",
   "metadata": {},
   "outputs": [],
   "source": [
    "result = calc(10, x2 = 20, opt=\"add\")\n",
    "print(result)"
   ]
  },
  {
   "cell_type": "code",
   "execution_count": null,
   "id": "4b2bcc97-a08e-416b-8e0e-c2b2510a3ed0",
   "metadata": {},
   "outputs": [],
   "source": [
    "result = calc(10, opt=\"add\", x2 = 20)\n",
    "print(result)"
   ]
  },
  {
   "cell_type": "code",
   "execution_count": 179,
   "id": "21999fcf-15ad-44ab-a5b9-f39f58a7e23e",
   "metadata": {},
   "outputs": [
    {
     "ename": "SyntaxError",
     "evalue": "positional argument follows keyword argument (3243136734.py, line 1)",
     "output_type": "error",
     "traceback": [
      "\u001b[1;36m  Cell \u001b[1;32mIn[179], line 1\u001b[1;36m\u001b[0m\n\u001b[1;33m    result = calc(10, opt=\"add\", 20)\u001b[0m\n\u001b[1;37m                                   ^\u001b[0m\n\u001b[1;31mSyntaxError\u001b[0m\u001b[1;31m:\u001b[0m positional argument follows keyword argument\n"
     ]
    }
   ],
   "source": [
    "result = calc(10, opt=\"add\", 20)\n",
    "print(result)"
   ]
  },
  {
   "cell_type": "code",
   "execution_count": 180,
   "id": "c13d018e-b0b6-425c-9773-14fa1ee1171f",
   "metadata": {},
   "outputs": [],
   "source": [
    "def sum11(* param):\n",
    "    print(param)"
   ]
  },
  {
   "cell_type": "code",
   "execution_count": 181,
   "id": "a3696713-2db9-4cdc-babf-138c421afdbb",
   "metadata": {},
   "outputs": [
    {
     "name": "stdout",
     "output_type": "stream",
     "text": [
      "(1, 2)\n",
      "(1, 2, 3)\n",
      "(1, 2, 3, 4, 5, 6, 7)\n"
     ]
    }
   ],
   "source": [
    "sum11(1,2)\n",
    "sum11(1,2,3)\n",
    "sum11(1,2,3,4,5,6,7)"
   ]
  },
  {
   "cell_type": "code",
   "execution_count": 182,
   "id": "ee73dc18-74a1-4785-bbbf-1837b443da3e",
   "metadata": {},
   "outputs": [],
   "source": [
    "def sum11(* param):\n",
    "    sum1 = 0\n",
    "    for num in param:\n",
    "        sum1 += num\n",
    "    print(sum1)"
   ]
  },
  {
   "cell_type": "code",
   "execution_count": 183,
   "id": "f0172ffd-1b19-4ed9-93dd-7cb349953d34",
   "metadata": {},
   "outputs": [
    {
     "name": "stdout",
     "output_type": "stream",
     "text": [
      "3\n",
      "6\n",
      "28\n"
     ]
    }
   ],
   "source": [
    "sum11(1,2)\n",
    "sum11(1,2,3)\n",
    "sum11(1,2,3,4,5,6,7)"
   ]
  },
  {
   "cell_type": "code",
   "execution_count": 184,
   "id": "cb945537-6a29-46d8-89ff-46997add71bb",
   "metadata": {},
   "outputs": [],
   "source": [
    "def sum14(opt,  * param):\n",
    "    result = 10\n",
    "    if  opt == \"add\":\n",
    "        for i in param:\n",
    "            result += i\n",
    "    elif opt == \"sub\":\n",
    "        for i in param:\n",
    "            result -= i\n",
    "    elif opt == \"mul\":\n",
    "        for i in param:\n",
    "            result *= i\n",
    "    else:\n",
    "        for i in param:\n",
    "            result /= i\n",
    "    print(result)"
   ]
  },
  {
   "cell_type": "code",
   "execution_count": 185,
   "id": "ac7e188f-8ca6-4de3-91b8-94d6f3b5b3b7",
   "metadata": {},
   "outputs": [
    {
     "name": "stdout",
     "output_type": "stream",
     "text": [
      "38\n"
     ]
    }
   ],
   "source": [
    "sum14(\"add\", 1,2,3,4,5,6,7)"
   ]
  },
  {
   "cell_type": "code",
   "execution_count": 186,
   "id": "b7d977c4-6b04-48e6-afde-f675f6bba4a4",
   "metadata": {},
   "outputs": [],
   "source": [
    "def dic1(** args):\n",
    "    print(args)"
   ]
  },
  {
   "cell_type": "code",
   "execution_count": 187,
   "id": "9a7b9f71-ff7f-4bd0-9fc8-b2a983a51fb1",
   "metadata": {},
   "outputs": [
    {
     "name": "stdout",
     "output_type": "stream",
     "text": [
      "{'a': 1}\n"
     ]
    }
   ],
   "source": [
    "dic1(a = 1)"
   ]
  },
  {
   "cell_type": "code",
   "execution_count": 188,
   "id": "ba9d6bdc-5771-402e-89bc-89177cea8cb1",
   "metadata": {},
   "outputs": [],
   "source": [
    "#### 매개변수에 초깃값 미리 설정하기 \n",
    "def say_myself(name, old, man):\n",
    "    print(\"나의 이름은 %s입니다.\" % name)\n",
    "    print(\"나의 나이는 %d입니다.\" % old)\n",
    "    if man: #True\n",
    "        print(\"남자입니다.\")\n",
    "    else: #False\n",
    "        print(\"여자입니다.\")"
   ]
  },
  {
   "cell_type": "code",
   "execution_count": 189,
   "id": "6c5fa81d-7f53-4814-83f2-83172ec5e188",
   "metadata": {},
   "outputs": [
    {
     "name": "stdout",
     "output_type": "stream",
     "text": [
      "나의 이름은 이숭무입니다.\n",
      "나의 나이는 35입니다.\n",
      "남자입니다.\n"
     ]
    }
   ],
   "source": [
    "say_myself('이숭무', 35, True)"
   ]
  },
  {
   "cell_type": "code",
   "execution_count": 194,
   "id": "b4a1f7f7-6d07-4892-a1cd-34707fd862e5",
   "metadata": {},
   "outputs": [],
   "source": [
    "def say_myself(name, old, man = True):\n",
    "    print(\"나의 이름은 %s입니다.\" % name)\n",
    "    print(\"나의 나이는 %d입니다.\" % old)\n",
    "    if man: #True\n",
    "        print(\"남자입니다.\")\n",
    "    else: #False\n",
    "        print(\"여자입니다.\")"
   ]
  },
  {
   "cell_type": "code",
   "execution_count": 192,
   "id": "b1002677-a452-417b-8be8-873bda87b513",
   "metadata": {},
   "outputs": [
    {
     "name": "stdout",
     "output_type": "stream",
     "text": [
      "10\n",
      "20\n",
      "10 ,20\n"
     ]
    }
   ],
   "source": [
    "print(10)\n",
    "print(20)\n",
    "print(10, end=\" ,\")\n",
    "print(20)"
   ]
  },
  {
   "cell_type": "code",
   "execution_count": 197,
   "id": "c1391051-e985-4ad4-a484-f25f0449848f",
   "metadata": {},
   "outputs": [
    {
     "name": "stdout",
     "output_type": "stream",
     "text": [
      "나의 이름은 이숭무입니다.\n",
      "나의 나이는 35입니다.\n",
      "남자입니다.\n",
      "나의 이름은 이숭무입니다.\n",
      "나의 나이는 35입니다.\n",
      "여자입니다.\n",
      "나의 이름은 이숭무입니다.\n",
      "나의 나이는 35입니다.\n",
      "남자입니다.\n"
     ]
    }
   ],
   "source": [
    "say_myself('이숭무', 35)\n",
    "say_myself('이숭무', 35, False)\n",
    "say_myself('이숭무', 35, True)"
   ]
  },
  {
   "cell_type": "code",
   "execution_count": 202,
   "id": "756d588b-1024-4d97-b1b3-bcf2434a68cb",
   "metadata": {},
   "outputs": [],
   "source": [
    "def say_myself(name, old = 30, man = True):\n",
    "    print(\"나의 이름은 %s입니다.\" % name)\n",
    "    print(\"나의 나이는 %d입니다.\" % old)\n",
    "    if man: #True\n",
    "        print(\"남자입니다.\")\n",
    "    else: #False\n",
    "        print(\"여자입니다.\")"
   ]
  },
  {
   "cell_type": "code",
   "execution_count": 200,
   "id": "ca94c4bc-ff6c-4667-acac-2d2e17db4367",
   "metadata": {},
   "outputs": [
    {
     "name": "stdout",
     "output_type": "stream",
     "text": [
      "나의 이름은 이숭무입니다.\n",
      "나의 나이는 30입니다.\n",
      "남자입니다.\n",
      "나의 이름은 오연의입니다.\n",
      "나의 나이는 55입니다.\n",
      "남자입니다.\n",
      "나의 이름은 오연의입니다.\n",
      "나의 나이는 0입니다.\n",
      "남자입니다.\n"
     ]
    }
   ],
   "source": [
    "say_myself('이숭무')\n",
    "say_myself('오연의', 55)\n",
    "say_myself('오연의', False)\n",
    "say_myself('오연의', man = False)"
   ]
  },
  {
   "cell_type": "code",
   "execution_count": 205,
   "id": "dac0d6c1-9c41-4a6b-a9ac-3ff1e2b40141",
   "metadata": {},
   "outputs": [
    {
     "name": "stdout",
     "output_type": "stream",
     "text": [
      "200\n",
      "200\n"
     ]
    }
   ],
   "source": [
    "opt = 'mul'; a = 10; b = 20 \n",
    "if opt == \"add\":\n",
    "    result = a + b\n",
    "elif opt == \"sub\":\n",
    "    result = a - b\n",
    "elif opt == \"mul\":\n",
    "    result = a * b\n",
    "else:\n",
    "    result = a / b\n",
    "print(result)\n",
    "result = a + b if opt == \"add\" else(\n",
    "         a - b if opt == \"sub\" else(   \n",
    "         a * b if opt == \"mul\" else(\n",
    "         a / b\n",
    "         )))\n",
    "print(result)"
   ]
  },
  {
   "cell_type": "code",
   "execution_count": 206,
   "id": "49a3e579-c147-406c-b565-1f4ea1f122e9",
   "metadata": {},
   "outputs": [],
   "source": [
    "def calc(opt, a, b):\n",
    "    if opt == \"add\":\n",
    "        return a + b\n",
    "    elif opt == \"sub\":\n",
    "        return a - b\n",
    "    elif opt == \"mul\":\n",
    "        return a * b\n",
    "    else:\n",
    "        return a / b"
   ]
  },
  {
   "cell_type": "code",
   "execution_count": null,
   "id": "e759f2c2-66e0-4424-a7b8-7b1ba2af2679",
   "metadata": {},
   "outputs": [],
   "source": [
    "result = calc(\"mul\", 10, 20)\n",
    "print(result)"
   ]
  },
  {
   "cell_type": "code",
   "execution_count": 209,
   "id": "65eb960d-ccaf-41c7-afd4-ca758227028d",
   "metadata": {},
   "outputs": [],
   "source": [
    "calc = lambda opt, a, b : a + b if opt == \"add\" else(\n",
    "                          a - b if opt == \"sub\" else( \n",
    "                          a * b if opt == \"mul\" else(\n",
    "                          a / b\n",
    "                          )))"
   ]
  },
  {
   "cell_type": "code",
   "execution_count": 210,
   "id": "c1bc8369-5aae-46cb-98e5-852b38f2873f",
   "metadata": {},
   "outputs": [
    {
     "name": "stdout",
     "output_type": "stream",
     "text": [
      "200\n"
     ]
    }
   ],
   "source": [
    "result = calc(\"mul\", 10, 20)\n",
    "print(result)"
   ]
  },
  {
   "cell_type": "code",
   "execution_count": 211,
   "id": "a11fb8b0-071a-4b55-95e6-e202adb16b99",
   "metadata": {},
   "outputs": [],
   "source": [
    "def add(a, b=4):\n",
    "    return a + b"
   ]
  },
  {
   "cell_type": "code",
   "execution_count": 213,
   "id": "3de50a43-6db2-4b6c-8475-2a09583788d0",
   "metadata": {},
   "outputs": [],
   "source": [
    "add = lambda a, b=4 : a + b"
   ]
  },
  {
   "cell_type": "code",
   "execution_count": 214,
   "id": "335bfd80-3a60-4ff2-8631-a16f26326b05",
   "metadata": {},
   "outputs": [
    {
     "name": "stdout",
     "output_type": "stream",
     "text": [
      "7\n"
     ]
    }
   ],
   "source": [
    "result = add(3)\n",
    "print(result)"
   ]
  },
  {
   "cell_type": "code",
   "execution_count": 216,
   "id": "c00ef5d1-7444-455f-840b-516239e4c8b5",
   "metadata": {},
   "outputs": [],
   "source": [
    "#전역변수 : 프로그램 전체에서 사용 가능한 변수, 함수밖에 있는 변수\n",
    "#지역변수 : 함수안에 정의 되어 있는 변수 , 함수안에서만 사용가능한 변수\n",
    "b = 100 # 전역변수\n",
    "def test3():\n",
    "    c1 = 200 # 지역 변수\n",
    "    print(\"함수 밖에 선언된 b 함수안에서 실행 : \" , b)\n",
    "    print(\"함수 안에 선언된 c1 : \" , c1)"
   ]
  },
  {
   "cell_type": "code",
   "execution_count": 220,
   "id": "6a35de28-d357-4d3f-a2b8-f0a63629b7c7",
   "metadata": {},
   "outputs": [
    {
     "name": "stdout",
     "output_type": "stream",
     "text": [
      "함수 밖에 선언된 b 함수안에서 실행 :  100\n",
      "함수 안에 선언된 c1 :  200\n",
      "함수 밖에 선언된 b  :  100\n"
     ]
    }
   ],
   "source": [
    "test3();\n",
    "#print(\"함수 안에 선언된 c1 : \" , c1)\n",
    "print(\"함수 밖에 선언된 b  : \" , b)"
   ]
  },
  {
   "cell_type": "code",
   "execution_count": 221,
   "id": "48e27b4b-99e1-4077-984f-df74a862f286",
   "metadata": {},
   "outputs": [],
   "source": [
    "b = 1 # 전역변수\n",
    "def test3():\n",
    "    b = 100 # 지역변수\n",
    "    c1 = 200 # 지역변수\n",
    "    print(\"함수안에서 b 실행 : \" , b)\n",
    "    print(\"함수안에서 c1 실행 : \" , c1)"
   ]
  },
  {
   "cell_type": "code",
   "execution_count": 223,
   "id": "88322fdd-7672-41c4-8992-410572035065",
   "metadata": {},
   "outputs": [
    {
     "name": "stdout",
     "output_type": "stream",
     "text": [
      "함수안에서 b 실행 :  100\n",
      "함수안에서 c1 실행 :  200\n",
      "함수 밖에 선언된 b  :  1\n"
     ]
    }
   ],
   "source": [
    "test3()\n",
    "print(\"함수 밖에 선언된 b  : \" , b)"
   ]
  },
  {
   "cell_type": "code",
   "execution_count": 225,
   "id": "dca7c543-44c0-4650-9b4b-4bf9928095ca",
   "metadata": {},
   "outputs": [],
   "source": [
    "b = 1 # 전역변수\n",
    "def test3():\n",
    "    global b\n",
    "    b = 100 # 지역변수\n",
    "    c1 = 200 # 지역변수\n",
    "    print(\"함수안에서 b 실행 : \" , b)\n",
    "    print(\"함수안에서 c1 실행 : \" , c1)"
   ]
  },
  {
   "cell_type": "code",
   "execution_count": 226,
   "id": "a6f5b94c-09d1-4854-9131-b3fe81461609",
   "metadata": {},
   "outputs": [
    {
     "name": "stdout",
     "output_type": "stream",
     "text": [
      "함수안에서 b 실행 :  100\n",
      "함수안에서 c1 실행 :  200\n",
      "함수 밖에 선언된 b  :  100\n"
     ]
    }
   ],
   "source": [
    "test3()\n",
    "print(\"함수 밖에 선언된 b  : \" , b)"
   ]
  },
  {
   "cell_type": "code",
   "execution_count": 227,
   "id": "1863ee96-39b2-4481-a617-1073f407069a",
   "metadata": {},
   "outputs": [],
   "source": [
    "# 파일입출력 : open()함수\n",
    "# open(file, mode='r', buffering=None, encoding=None, errors=None, newline=None, closefd=True)\n",
    "f = open(\"test.txt\",\"w\")\n",
    "f.write(\"1번째 줄입니다.\\n\")\n",
    "f.write(\"2번째 줄입니다.\\n\")\n",
    "f.write(\"3번째 줄입니다.\\n\")\n",
    "f.write(\"4번째 줄입니다.\\n\")\n",
    "f.write(\"5번째 줄입니다.\\n\")\n",
    "f.close()"
   ]
  },
  {
   "cell_type": "code",
   "execution_count": 228,
   "id": "0583872f-fc41-403f-bdba-1413d4261a6c",
   "metadata": {},
   "outputs": [],
   "source": [
    "f = open(\"test.txt\",\"w\",encoding=\"utf-8\")\n",
    "for i in range(1, 6):\n",
    "    f.write(f\"{i}번째 줄입니다.\\n\")\n",
    "f.close()"
   ]
  },
  {
   "cell_type": "code",
   "execution_count": 229,
   "id": "a9121788-d59d-4c1e-8a91-a607812aebb5",
   "metadata": {},
   "outputs": [],
   "source": [
    "f = open(\"test.txt\",\"a\",encoding=\"utf-8\")\n",
    "for i in range(6, 11):\n",
    "    f.write(f\"{i}번째 줄입니다.\\n\")\n",
    "f.close()"
   ]
  },
  {
   "cell_type": "code",
   "execution_count": null,
   "id": "28d51791-34c7-4151-b49c-38a7fec3fcf3",
   "metadata": {},
   "outputs": [],
   "source": [
    "f = open(\"test.txt\",encoding=\"utf-8\")\n",
    "line = f.readline()\n",
    "print(line)"
   ]
  },
  {
   "cell_type": "code",
   "execution_count": 232,
   "id": "239219c3-8b15-463d-90e1-16884dac4f7a",
   "metadata": {},
   "outputs": [
    {
     "name": "stdout",
     "output_type": "stream",
     "text": [
      "5번째 줄입니다.\n",
      "\n",
      "6번째 줄입니다.\n",
      "\n",
      "7번째 줄입니다.\n",
      "\n"
     ]
    }
   ],
   "source": [
    "line = f.readline()\n",
    "print(line)\n",
    "line = f.readline()\n",
    "print(line)\n",
    "line = f.readline()\n",
    "print(line)\n",
    "f.close()"
   ]
  },
  {
   "cell_type": "code",
   "execution_count": null,
   "id": "0f549649-7661-42dd-956a-d1c2d2e85e28",
   "metadata": {},
   "outputs": [],
   "source": [
    "f = open(\"test.txt\",encoding=\"utf-8\")\n",
    "while True:\n",
    "    line = f.readline()\n",
    "    if not line:\n",
    "        break\n",
    "    print(line)\n",
    "f.close()"
   ]
  },
  {
   "cell_type": "code",
   "execution_count": 237,
   "id": "196df5ab-36fa-4786-9d1b-8b28097fe01c",
   "metadata": {},
   "outputs": [
    {
     "name": "stdout",
     "output_type": "stream",
     "text": [
      "['1번째 줄입니다.\\n', '2번째 줄입니다.\\n', '3번째 줄입니다.\\n', '4번째 줄입니다.\\n', '5번째 줄입니다.\\n', '6번째 줄입니다.\\n', '7번째 줄입니다.\\n', '8번째 줄입니다.\\n', '9번째 줄입니다.\\n', '10번째 줄입니다.\\n']\n",
      "1번째 줄입니다.\n",
      "2번째 줄입니다.\n",
      "3번째 줄입니다.\n",
      "4번째 줄입니다.\n",
      "5번째 줄입니다.\n",
      "6번째 줄입니다.\n",
      "7번째 줄입니다.\n",
      "8번째 줄입니다.\n",
      "9번째 줄입니다.\n",
      "10번째 줄입니다.\n",
      "\n"
     ]
    }
   ],
   "source": [
    "f = open(\"test.txt\",mode=\"r\",encoding=\"utf-8\")\n",
    "lines = f.readlines()\n",
    "f.close()\n",
    "print(lines)\n",
    "print(\"\".join(lines))"
   ]
  },
  {
   "cell_type": "code",
   "execution_count": null,
   "id": "001d92c6-0426-4c93-a76a-9688c8cb9cee",
   "metadata": {},
   "outputs": [],
   "source": [
    "f = open(\"test.txt\",\"r\",encoding=\"utf-8\")\n",
    "data = f.read()\n",
    "f.close()\n",
    "print(data)"
   ]
  },
  {
   "cell_type": "code",
   "execution_count": 240,
   "id": "9aa3f41d-294d-4657-94e2-19bb8f47a7b6",
   "metadata": {},
   "outputs": [],
   "source": [
    "with open(\"test.txt\",\"w\",encoding=\"utf-8\") as f:\n",
    "    for i in range(1, 11):\n",
    "        f.write(f\"{i}번째 줄입니다.\\n\")"
   ]
  },
  {
   "cell_type": "code",
   "execution_count": 241,
   "id": "29ae6b95-5166-43c6-8e35-bce78eadd017",
   "metadata": {},
   "outputs": [],
   "source": [
    "with open(\"test.txt\",\"a\",encoding=\"utf-8\") as f:\n",
    "    for i in range(11, 21):\n",
    "        f.write(f\"{i}번째 줄입니다.\\n\")"
   ]
  },
  {
   "cell_type": "code",
   "execution_count": null,
   "id": "61a64868-1846-4188-9b8d-7a5192a718c3",
   "metadata": {},
   "outputs": [],
   "source": [
    "with open(\"test.txt\",\"r\", encoding=\"utf-8\") as f:\n",
    "    data = f.read()\n",
    "    print(data)"
   ]
  },
  {
   "cell_type": "code",
   "execution_count": 258,
   "id": "37a4f51b-a6ef-4d4d-933f-e680f0dfd3d4",
   "metadata": {},
   "outputs": [],
   "source": [
    "# class : 변수 , 함수를 하나로 묶은 것 \n",
    "#               클래스 안에 있는 함수를 메서드\n",
    "class Testclass:\n",
    "    b = 1 # 멤버필드\n",
    "    def test3(self):\n",
    "        self.b = 100\n",
    "        c1 = 10 # 지역변수\n",
    "        print(\"함수안에서 b 실행 : \" , b)\n",
    "        print(\"함수안에서 c1 실행 : \" , c1)"
   ]
  },
  {
   "cell_type": "code",
   "execution_count": 260,
   "id": "b9c93900-52be-4eac-a68c-c67f1c9de5da",
   "metadata": {},
   "outputs": [
    {
     "name": "stdout",
     "output_type": "stream",
     "text": [
      "1\n",
      "함수안에서 b 실행 :  100\n",
      "함수안에서 c1 실행 :  10\n"
     ]
    }
   ],
   "source": [
    "a1 = Testclass()\n",
    "print(a1.b)\n",
    "a1.test3()"
   ]
  },
  {
   "cell_type": "code",
   "execution_count": 263,
   "id": "c7b73ad4-5748-4c6a-a992-236dffbeacbb",
   "metadata": {},
   "outputs": [
    {
     "name": "stdout",
     "output_type": "stream",
     "text": [
      "100\n",
      "1000\n"
     ]
    }
   ],
   "source": [
    "a2 = Testclass()\n",
    "a1.b = 100\n",
    "print(a1.b)\n",
    "a2.b = 1000\n",
    "print(a2.b)"
   ]
  },
  {
   "cell_type": "code",
   "execution_count": 264,
   "id": "4ba7a8a9-8518-4d1e-b21f-a90723e94ffd",
   "metadata": {},
   "outputs": [],
   "source": [
    "class Testclass:\n",
    "    result = 1\n",
    "    def f(self, x):\n",
    "        self.result = 3 + x * 3\n",
    "        return self.result"
   ]
  },
  {
   "cell_type": "code",
   "execution_count": 266,
   "id": "f42b202f-ac17-4258-abb8-da8432ed89cb",
   "metadata": {},
   "outputs": [
    {
     "name": "stdout",
     "output_type": "stream",
     "text": [
      "1\n",
      "33\n"
     ]
    }
   ],
   "source": [
    "a1 = Testclass()\n",
    "print(a1.result)\n",
    "y = a1.f(10)\n",
    "print(y)"
   ]
  },
  {
   "cell_type": "code",
   "execution_count": 267,
   "id": "3ccb1737-d6c3-4dd1-b918-ad2a31560847",
   "metadata": {},
   "outputs": [
    {
     "name": "stdout",
     "output_type": "stream",
     "text": [
      "33\n"
     ]
    }
   ],
   "source": [
    "y = Testclass.f(a1, 10)\n",
    "print(y)"
   ]
  },
  {
   "cell_type": "code",
   "execution_count": 269,
   "id": "35f41818-ae61-42e3-bd11-732fb285587c",
   "metadata": {},
   "outputs": [],
   "source": [
    "class Testclass: # 멤버필드는 생략이 가능하다.\n",
    "    def f(self, x): # 멤버필드의 초기값을 사용하려면 멤버필드를 선언해주어야 한다.\n",
    "        self.result = 3 + x * 3\n",
    "        return self.result"
   ]
  },
  {
   "cell_type": "code",
   "execution_count": 271,
   "id": "06844fb1-6bfe-40c7-aea7-a101fe71c5ef",
   "metadata": {},
   "outputs": [
    {
     "name": "stdout",
     "output_type": "stream",
     "text": [
      "10\n"
     ]
    }
   ],
   "source": [
    "a1 = Testclass()\n",
    "#print(a1.result)\n",
    "a1.result = 10\n",
    "print(a1.result)"
   ]
  },
  {
   "cell_type": "code",
   "execution_count": 276,
   "id": "9eae6ca7-b051-43e7-bd8e-d5654a110538",
   "metadata": {},
   "outputs": [],
   "source": [
    "class Calculator:\n",
    "    def setData(self, first, second): \n",
    "         self.first = first\n",
    "         self.second = second\n",
    "    def add(self):\n",
    "         self.result = self.first + self.second\n",
    "         return self.result\n",
    "    def div(self):\n",
    "         self.result = self.first / self.second\n",
    "         return self.result"
   ]
  },
  {
   "cell_type": "code",
   "execution_count": 278,
   "id": "c837a5cc-8122-4fbc-b471-6218bcadda2c",
   "metadata": {},
   "outputs": [
    {
     "name": "stdout",
     "output_type": "stream",
     "text": [
      "30\n",
      "30\n"
     ]
    }
   ],
   "source": [
    "a1 = Calculator()\n",
    "a1.setData(10,20)\n",
    "y = a1.add()\n",
    "print(y)\n",
    "a2 = Calculator()\n",
    "a2.setData(10,20)\n",
    "y = a2.add()\n",
    "print(y)"
   ]
  },
  {
   "cell_type": "code",
   "execution_count": 279,
   "id": "389e199d-3056-4c5c-9d88-a9e344c0c1ad",
   "metadata": {},
   "outputs": [],
   "source": [
    "class Calculator:\n",
    "    def __init__(self, first, second):  # 멤버필드를 초기화하기 위한 메서드 : 생성자\n",
    "         self.first = first\n",
    "         self.second = second\n",
    "    def add(self):\n",
    "         self.result = self.first + self.second\n",
    "         return self.result\n",
    "    def div(self):\n",
    "         self.result = self.first / self.second\n",
    "         return self.result"
   ]
  },
  {
   "cell_type": "code",
   "execution_count": 281,
   "id": "75f19c5e-9c3e-496a-9e90-8a09f7d4ebb7",
   "metadata": {},
   "outputs": [
    {
     "name": "stdout",
     "output_type": "stream",
     "text": [
      "20\n",
      "50\n"
     ]
    }
   ],
   "source": [
    "a3 = Calculator(20, 30)\n",
    "print(a3.first)\n",
    "y = a3.add()\n",
    "print(y)"
   ]
  },
  {
   "cell_type": "code",
   "execution_count": 282,
   "id": "f877320b-9bc0-469d-b573-22623c27ce04",
   "metadata": {},
   "outputs": [],
   "source": [
    "# 상속\n",
    "class FourCal(Calculator):\n",
    "    '''\n",
    "    def __init__(self, first, second): \n",
    "         self.first = first\n",
    "         self.second = second\n",
    "    def add(self):\n",
    "         self.result = self.first + self.second\n",
    "         return self.result\n",
    "    def div(self):\n",
    "         self.result = self.first / self.second\n",
    "         return self.result\n",
    "    '''\n",
    "    def sub(self):\n",
    "        self.result = self.first - self.second\n",
    "        return self.result\n",
    "    def mul(self):\n",
    "        self.result = self.first * self.second\n",
    "        return self.result    "
   ]
  },
  {
   "cell_type": "code",
   "execution_count": 284,
   "id": "4f636992-b06f-4700-a71f-91fedcad99eb",
   "metadata": {},
   "outputs": [
    {
     "name": "stdout",
     "output_type": "stream",
     "text": [
      "50\n",
      "0.6666666666666666\n",
      "-10\n",
      "600\n"
     ]
    }
   ],
   "source": [
    "a4 = FourCal(20, 30)\n",
    "y = a4.add()\n",
    "print(y)\n",
    "y = a4.div()\n",
    "print(y)\n",
    "y = a4.sub()\n",
    "print(y)\n",
    "y = a4.mul()\n",
    "print(y)"
   ]
  },
  {
   "cell_type": "code",
   "execution_count": 285,
   "id": "90ae6bbb-f8b5-45c8-a02a-0e87a82a7c54",
   "metadata": {},
   "outputs": [
    {
     "name": "stdout",
     "output_type": "stream",
     "text": [
      "0.0\n"
     ]
    }
   ],
   "source": [
    "a5 = FourCal(0, 10)\n",
    "y = a5.div() # 0 / 10 = 0 :  부정\n",
    "print(y)"
   ]
  },
  {
   "cell_type": "code",
   "execution_count": null,
   "id": "f0f96e17-e010-4a99-80a5-8f730a4c8c7f",
   "metadata": {},
   "outputs": [],
   "source": [
    "a5 = FourCal(10, 0)\n",
    "y = a5.div() # 10 / 0 :  불능\n",
    "print(y)"
   ]
  },
  {
   "cell_type": "code",
   "execution_count": 287,
   "id": "ee494b12-27ef-4d06-b0ed-f3490d2f8385",
   "metadata": {},
   "outputs": [],
   "source": [
    "class FourCal(Calculator):\n",
    "    def div(self): # 재정의 : 오버라이드 : override \n",
    "        if self.second == 0:\n",
    "            return  0\n",
    "        else:\n",
    "            self.result = self.first / self.second\n",
    "            return self.result\n",
    "    def sub(self):\n",
    "        self.result = self.first - self.second\n",
    "        return self.result\n",
    "    def mul(self):\n",
    "        self.result = self.first * self.second\n",
    "        return self.result"
   ]
  },
  {
   "cell_type": "code",
   "execution_count": 289,
   "id": "3fdc03a3-e4ff-4cda-b320-f79dd6fe332f",
   "metadata": {},
   "outputs": [
    {
     "name": "stdout",
     "output_type": "stream",
     "text": [
      "0\n"
     ]
    }
   ],
   "source": [
    "a5 = FourCal(10, 0)\n",
    "y = a5.div() # 10 / 0 :  \n",
    "print(y)"
   ]
  },
  {
   "cell_type": "code",
   "execution_count": 290,
   "id": "26490f6c-e345-4bf9-9a50-b6daf647e43c",
   "metadata": {},
   "outputs": [
    {
     "name": "stdout",
     "output_type": "stream",
     "text": [
      "3\n"
     ]
    }
   ],
   "source": [
    "# 모듈 : 변수, 상수 , 함수, 클래스를 하나로 묶은 파일\n",
    "import random # random.py\n",
    "num = random.randint(1,5)\n",
    "print(num)"
   ]
  },
  {
   "cell_type": "code",
   "execution_count": 294,
   "id": "bbfb4bca-eba6-43dc-936b-f9712a7daed4",
   "metadata": {},
   "outputs": [
    {
     "name": "stdout",
     "output_type": "stream",
     "text": [
      "10\n",
      "3.14159\n",
      "30\n"
     ]
    }
   ],
   "source": [
    "import mod1\n",
    "print(mod1.val)\n",
    "print(mod1.PI)\n",
    "a6 = mod1.calc1\n",
    "print(a6.add())"
   ]
  },
  {
   "cell_type": "code",
   "execution_count": 300,
   "id": "f7027b15-cbf4-41c3-a8f0-d282ace8b3bc",
   "metadata": {},
   "outputs": [
    {
     "name": "stdout",
     "output_type": "stream",
     "text": [
      "10\n",
      "3.14159\n",
      "30\n"
     ]
    }
   ],
   "source": [
    "from mod1 import *\n",
    "print(val)\n",
    "print(PI)\n",
    "a6 = calc1\n",
    "print(a6.add())"
   ]
  },
  {
   "cell_type": "code",
   "execution_count": null,
   "id": "cb42209b-2ff7-498b-8e06-649f3d6637e6",
   "metadata": {},
   "outputs": [],
   "source": [
    "from mod1 import val , PI\n",
    "print(val)\n",
    "print(PI)"
   ]
  },
  {
   "cell_type": "code",
   "execution_count": 304,
   "id": "38eb7cc9-2588-4498-b92a-9494d4d4211d",
   "metadata": {},
   "outputs": [
    {
     "name": "stdout",
     "output_type": "stream",
     "text": [
      "10\n",
      "3.14159\n"
     ]
    }
   ],
   "source": [
    "from mod1 import val \n",
    "from mod1 import PI\n",
    "print(val)\n",
    "print(PI)"
   ]
  },
  {
   "cell_type": "code",
   "execution_count": null,
   "id": "e5d5c995-b552-4f16-87a8-a211cabf14dd",
   "metadata": {},
   "outputs": [],
   "source": []
  }
 ],
 "metadata": {
  "kernelspec": {
   "display_name": "Python 3 (ipykernel)",
   "language": "python",
   "name": "python3"
  },
  "language_info": {
   "codemirror_mode": {
    "name": "ipython",
    "version": 3
   },
   "file_extension": ".py",
   "mimetype": "text/x-python",
   "name": "python",
   "nbconvert_exporter": "python",
   "pygments_lexer": "ipython3",
   "version": "3.12.3"
  }
 },
 "nbformat": 4,
 "nbformat_minor": 5
}
