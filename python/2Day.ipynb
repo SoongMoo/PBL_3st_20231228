{
 "cells": [
  {
   "cell_type": "code",
   "execution_count": 1,
   "id": "b1abbbf8-491b-465b-8fa0-7127a6aff7cf",
   "metadata": {},
   "outputs": [
    {
     "name": "stdout",
     "output_type": "stream",
     "text": [
      "['Life', 'is', 'too', 'short']\n"
     ]
    }
   ],
   "source": [
    "# 자료형 \n",
    "# 리터널 자료형 : 자연수 : 정수(10) , 실수(10.5)\n",
    "#                자연어 : 국어, 중국어, 영어,... : \"\",'',\"\"\"\"\"\",''''''\n",
    "#                부울 : 참/거짓 : True/False\n",
    "# 리스트 자료형 : []\n",
    "str1 = \"Life is too short\"\n",
    "l1 = str1.split();\n",
    "print(l1)\n",
    "l1 = [] # 빈 리스트\n",
    "l2 = [10, 20, 5] # List<Integer> list = new AttayList<Integer>();\n",
    "l3 = [1.5, 6.7, 20.6] # List<Double> list = new AttayList<Double>();\n",
    "l4 = ['이숭무', 'apple','red'] # List<String> list = new AttayList<String>();\n",
    "l5 = [10, 3.5, '이숭무'] # List<Object> list = new ArrayList<Object>(); 혼합형리스트\n",
    "l6 = [10, 3.5, '이숭무',[1,2,3,4,5]] # 리스트를 포함한 혼합형 리스트\n",
    "l7 = [[1,2,3,4],[5,6,7,8]] # 리스트를 포함한 리스트\n",
    "                           # List<List> list = new ArrayList<List>();"
   ]
  },
  {
   "cell_type": "code",
   "execution_count": 4,
   "id": "0875cc35-602c-44db-a2dc-a15a6e390dae",
   "metadata": {},
   "outputs": [
    {
     "name": "stdout",
     "output_type": "stream",
     "text": [
      "i\n",
      "20\n",
      "20\n"
     ]
    }
   ],
   "source": [
    "str1 = \"Life is too short\"\n",
    "#       01234567890123456     : index\n",
    "#                 1\n",
    "#       76543210987654321  - \n",
    "#              1\n",
    "print(str1[5])\n",
    "l2 = [10, 20, 5]\n",
    "#       요소\n",
    "#     0   1   2 :  index\n",
    "#     3   2   1 - \n",
    "print(l2[1])\n",
    "print(l2[-2])"
   ]
  },
  {
   "cell_type": "code",
   "execution_count": 15,
   "id": "0683fd36-24f6-455d-b201-d286c59e5ffe",
   "metadata": {},
   "outputs": [
    {
     "name": "stdout",
     "output_type": "stream",
     "text": [
      "1\n",
      "2\n",
      "Life\n",
      "[3, 4, 5]\n",
      "[1]\n",
      "0.5\n",
      "short\n",
      "30\n",
      "3\n",
      "130\n",
      "31\n"
     ]
    }
   ],
   "source": [
    "l = [1, 2, 'Life', 'is', [3, 4, 5], 'too', [1], 0.5, 'short', '30']\n",
    "#    0  1     2      3       4        5     6    7      8       9\n",
    "print(l[0]) # 정수\n",
    "print(l[1]) # 정수\n",
    "print(l[2]) # 문자열\n",
    "print(l[4]) # 리스트\n",
    "print(l[6]) # 리스트\n",
    "print(l[7]) # 실수\n",
    "print(l[8]) # 문자열\n",
    "print(l[9]) # 문자열\n",
    "# 원하는 요소를 출력하면 요소의 타입으로 출력된다.\n",
    "print(l[0] + l[1] ) # 정수 + 정수\n",
    "#print(10 + \"30\") # 정수 + 문자열\n",
    "#print(l[0] + l[9] ) # 정수 + 문자열\n",
    "print(str(l[0]) + l[9] ) #  문자열 + 문자열\n",
    "print(l[0] + int(l[9]) ) # 정수 + 정수\n",
    "print(l[9] * l[1]) # 문자열 * 정수 : 문자열 반복"
   ]
  },
  {
   "cell_type": "code",
   "execution_count": null,
   "id": "00f5f37b-3827-458a-b649-c8c0054002da",
   "metadata": {},
   "outputs": [],
   "source": [
    "a = [1, 2, 3, ['a', 'b', 'c']]\n",
    "#    0  1  2         3\n",
    "#               0    1    2\n",
    "# -  4  3  2         1\n",
    "#              -3    2    1\n",
    "print(a[3]) # ['a', 'b', 'c']\n",
    "#               0    1    2\n",
    "print(a[3][1])\n",
    "print(a[-1][-2])\n",
    "print(a[-1][1])\n",
    "print(a[3][-2])"
   ]
  },
  {
   "cell_type": "code",
   "execution_count": 23,
   "id": "79a39d5f-c166-4211-9e85-3c6d51a5f2fa",
   "metadata": {},
   "outputs": [
    {
     "name": "stdout",
     "output_type": "stream",
     "text": [
      "life\n",
      "f\n"
     ]
    }
   ],
   "source": [
    "a = [1, 2, 3, ['a', 'b', ['life', 'is']]]\n",
    "#    0  1  2             3\n",
    "#               0     1         2\n",
    "#                           0        1\n",
    "# 'life'를 출력하세요\n",
    "print(a[3][2][0]) # life\n",
    "#                   0123\n",
    "# 'f'를 출력하세요.\n",
    "print(a[3][2][0][2])"
   ]
  },
  {
   "cell_type": "code",
   "execution_count": 31,
   "id": "b02d14c1-0678-44ef-bc3b-94e49ac8c307",
   "metadata": {},
   "outputs": [
    {
     "name": "stdout",
     "output_type": "stream",
     "text": [
      "f\n",
      "too\n",
      "2\n",
      "['Life', 'is', [3, 4, 5]]\n",
      "[2]\n",
      "[]\n",
      "[2, 'Life']\n"
     ]
    }
   ],
   "source": [
    "#리스트의 슬라이싱\n",
    "str1 ='Life is too short'\n",
    "#      01234567890123456\n",
    "#                1\n",
    "print(str1[2]) # indexing\n",
    "print(str1[8 : 8 + 3]) # slicing\n",
    "l = [1, 2, 'Life', 'is', [3, 4, 5], 'too', [1], 0.5, 'short', '30']\n",
    "#    0  1     2      3        4       5     6     7     8      9\n",
    "print(l[1]) # indexing을 하면 요소의 타입으로 출력\n",
    "print(l[2 : 2+ 3])\n",
    "print(l[1: 1 + 1]) # slicing의 반환형은 리스트이다.\n",
    "print(l[1 : 1 + 0]) # 0개 : [] 빈리스트 출력 \n",
    "print(l[1 : 1 + 2]) # 2개"
   ]
  },
  {
   "cell_type": "code",
   "execution_count": 47,
   "id": "eac4baba-8903-46c9-97ee-3f987d2583e5",
   "metadata": {},
   "outputs": [
    {
     "name": "stdout",
     "output_type": "stream",
     "text": [
      "[1, 2, 3, 4, 5, 6, 7, 8]\n",
      "[1, 2, 3, 4, 5, 6, 7, 8]\n",
      "[1, 2, 'Life', 'is', [3, 4, 5], 'too', [1], 0.5, 'short', '30']\n",
      "Life\n",
      "LifeLife\n",
      "[1, 2, 'Life', 0.5, 'short', '30']\n",
      "[1, 2, 'Life', 1, 2, 'Life']\n",
      "[1, 2, 'Life', 1, 2, 'Life']\n",
      "[1, 2, 'Life', 'L', 'i', 'f', 'e']\n"
     ]
    }
   ],
   "source": [
    "# 숫자 연산자 : +, -, *, /, %, //, **\n",
    "# 문자열 연산자 : + : 연결연산자, * : 반복연산자\n",
    "# 리스트 연산자 : + : 연결연산자, * : 반복연산자\n",
    "print([1,2,3,4] + [5,6,7,8])\n",
    "l1 = [1,2,3,4] \n",
    "l2 = [5,6,7,8]\n",
    "print(l1 + l2)\n",
    "print(l)\n",
    "print(l[2]) # 문자열\n",
    "print(l[2] * l[1])\n",
    "print(l[0:0+3] + l[7 : 7 +3]) # 리스트 + 리스트\n",
    "print(l[0:0+3] * l[1]) # 리스트 * 정수\n",
    "print([1, 2, 'Life'] * 2)\n",
    "#print(l[0:0+3] + l[2]) # 리스트 + 문자열\n",
    "print(l[0:0+3] + list(l[2])) # 리스트 + 리스트\n",
    "# 숫자는 리스트로 변환되지 않는다."
   ]
  },
  {
   "cell_type": "code",
   "execution_count": 48,
   "id": "1423be44-01e5-4d0e-b44c-d1c80ab58cfd",
   "metadata": {},
   "outputs": [
    {
     "data": {
      "text/plain": [
       "['h', 'e', 'l', 'l', 'o']"
      ]
     },
     "execution_count": 48,
     "metadata": {},
     "output_type": "execute_result"
    }
   ],
   "source": [
    "str2 = \"hello\"\n",
    "list(str2)\n",
    "# 변환 함수 : str(), int(), list()"
   ]
  },
  {
   "cell_type": "code",
   "execution_count": 53,
   "id": "9788037c-53df-4fb5-a78d-0d25d87ac8d5",
   "metadata": {},
   "outputs": [
    {
     "name": "stdout",
     "output_type": "stream",
     "text": [
      "Lyfe\n",
      "['Life', 'is', 'too', 'short']\n",
      "['Life', 'is', 100, 'short']\n"
     ]
    }
   ],
   "source": [
    "l3 = ['Lyfe', 'is', 'too', 'short']\n",
    "#       0       1      2       3\n",
    "print(l3[0])\n",
    "l3[0] = \"Life\" # index를 이용해서 요소의 값을 변경할 수 있다.\n",
    "print(l3)\n",
    "l3[2] = 100\n",
    "print(l3)"
   ]
  },
  {
   "cell_type": "code",
   "execution_count": 58,
   "id": "f5d9eb50-8fff-4022-93e8-99a17a3fe275",
   "metadata": {},
   "outputs": [
    {
     "name": "stdout",
     "output_type": "stream",
     "text": [
      "4\n",
      "2\n"
     ]
    }
   ],
   "source": [
    "# 리스트 함수\n",
    "l1 = ['Life', 'is', 'too', 'short']\n",
    "#길이 함수\n",
    "print(len(l1))\n",
    "# 요소의 위치 함수\n",
    "print(l1.index(\"too\"))\n",
    "#print(l1.find(\"too\")) # 리스트에는 find함수는 없다."
   ]
  },
  {
   "cell_type": "code",
   "execution_count": 66,
   "id": "77a72429-b1ef-4d2d-9b82-ee8f23d55914",
   "metadata": {},
   "outputs": [
    {
     "name": "stdout",
     "output_type": "stream",
     "text": [
      "['Life', 'is', 'too']\n",
      "['Life', 'is', 'too', 'short']\n",
      "['Life', 'is', 'too', 'short', 3]\n",
      "['Life', 'is', 'short']\n",
      "['Life', 'is', 'too', 'short']\n",
      "['Life', 'is', ['too', 'short']]\n",
      "['Life', 'is', 'too', 'short']\n"
     ]
    }
   ],
   "source": [
    "# 리스트에 요소 추가 \n",
    "#append() : 요소를 마지막에 추가\n",
    "l1 = ['Life','is']\n",
    "'too'\n",
    "l1.append('too') \n",
    "print(l1)\n",
    "l1.append('short')\n",
    "print(l1)\n",
    "l1.append(3)\n",
    "print(l1)\n",
    "# insert() 원하는 위치에 요소 추가\n",
    "l1 = ['Life', 'short']\n",
    "#       0        1\n",
    "l1.insert(1,'is')\n",
    "print(l1) # ['Life', 'is', 'short']\n",
    "#              0       1      2\n",
    "l1.insert(2, 'too')\n",
    "print(l1) \n",
    "\n",
    "l1 = ['Life','is']\n",
    "l2 = ['too', 'short']\n",
    "l1.append(l2)\n",
    "print(l1)\n",
    "\n",
    "# 확장 : extend()\n",
    "l1 = ['Life','is']\n",
    "l2 = ['too', 'short']\n",
    "l1.extend(l2)\n",
    "print(l1)"
   ]
  },
  {
   "cell_type": "code",
   "execution_count": 74,
   "id": "ffcdb405-79d1-4e12-84b1-d7f096fc87e2",
   "metadata": {},
   "outputs": [
    {
     "name": "stdout",
     "output_type": "stream",
     "text": [
      "['Life', 'too', 'short']\n",
      "['Life', 'short']\n",
      "[]\n",
      "short\n",
      "['Life', 'is', 'too']\n",
      "is\n",
      "['Life', 'too']\n"
     ]
    }
   ],
   "source": [
    "#요소 삭제\n",
    "l1 = ['Life', 'is', 'too', 'short']\n",
    "#       0      1      2       3\n",
    "del l1[1] #index를 사용\n",
    "print(l1)\n",
    "# del l1['too']\n",
    "# 요소를 이용해서 삭제 : remove\n",
    "l1.remove('too')\n",
    "print(l1)\n",
    "# 전체 삭제 :  clear\n",
    "l1.clear()\n",
    "print(l1) # [] : 빈 리스트\n",
    "### 삭제한 값을 받아오기 : pop\n",
    "l1 = ['Life', 'is', 'too', 'short']\n",
    "result = l1.pop() # 삭제한 값 반환 받기\n",
    "print(result)\n",
    "print(l1) # ['Life', 'is', 'too']\n",
    "result = l1.pop(1) #index를 이용해서 삭제하고 삭제된 값 반환 # 비복원 추출\n",
    "print(result)\n",
    "print(l1)\n",
    "# 복원 추출 : 주사위, 가위바위보"
   ]
  },
  {
   "cell_type": "code",
   "execution_count": 78,
   "id": "df16932e-d9eb-4272-b750-8412f9bf574a",
   "metadata": {},
   "outputs": [
    {
     "name": "stdout",
     "output_type": "stream",
     "text": [
      "[1, 2, 3, 4, 5]\n",
      "[5, 4, 3, 2, 1]\n",
      "['a', 'b', 'c']\n",
      "['c', 'b', 'a']\n"
     ]
    }
   ],
   "source": [
    "# 정렬 -- 오름차순, 내림차순 : 숫자 또는 문자열\n",
    "l = [4,2,5,1,3]\n",
    "# 오름차순 asc\n",
    "l.sort()\n",
    "print(l)\n",
    "# 내림차순 \n",
    "l = [4,2,5,1,3]\n",
    "l.sort(reverse=True) # desc\n",
    "print(l)\n",
    "l = ['b','a','c']\n",
    "l.sort()\n",
    "print(l)\n",
    "l.sort(reverse=True)\n",
    "print(l)"
   ]
  },
  {
   "cell_type": "code",
   "execution_count": 87,
   "id": "aea26f5f-0618-45e0-8b7f-058686c80dbd",
   "metadata": {},
   "outputs": [
    {
     "name": "stdout",
     "output_type": "stream",
     "text": [
      "33\n",
      "48\n",
      "8\n",
      "8\n",
      "(8,)\n",
      "(3, 5)\n"
     ]
    }
   ],
   "source": [
    "# 리터널 자료형 : 자연수 :  10 : 정수, 10.5 : 실수\n",
    "#                자연어 : 국어, 영어, 일본어,... : \" \", ' ',\"\"\" \"\"\",''' ''' : 문자열\n",
    "#                 부울  : True/False\n",
    "# 리스트 : []\n",
    "# 튜플 : ()\n",
    "l = []  #리스트\n",
    "t = () # 튜플\n",
    "l = [1,2,3,4,5] #리스트\n",
    "t = (1,2,3,4,5) #튜플\n",
    "result = 3 + 5 * 6 # 33\n",
    "print(result)\n",
    "result = (3 + 5) * 6\n",
    "print(result)\n",
    "print((3 + 5))\n",
    "print((8))\n",
    "print((8,))\n",
    "print((3, 5))"
   ]
  },
  {
   "cell_type": "code",
   "execution_count": 94,
   "id": "e6219460-e090-4032-b20f-2d276fb37092",
   "metadata": {},
   "outputs": [
    {
     "name": "stdout",
     "output_type": "stream",
     "text": [
      "이숭무의 나이는 20살이고 키는 175.300000입니다\n",
      "이숭무의 나이는 20살입니다\n",
      "이숭무의 나이는 20살입니다\n"
     ]
    }
   ],
   "source": [
    "age = 20\n",
    "height = 175.3\n",
    "print(\"이숭무의 나이는 %d살이고 키는 %f입니다\" % (age, height))\n",
    "print(\"이숭무의 나이는 %d살입니다\" % age)\n",
    "print(\"이숭무의 나이는 %d살입니다\" % (age,))\n",
    "#print(\"이숭무의 나이는 %d살이고 키는 %f입니다\" % [age, height])"
   ]
  },
  {
   "cell_type": "code",
   "execution_count": 95,
   "id": "a6237c07-19ea-46ef-ac99-a70de93cf15b",
   "metadata": {},
   "outputs": [
    {
     "name": "stdout",
     "output_type": "stream",
     "text": [
      "(1,)\n",
      "(1, 2, 3, 4, 5, 6)\n"
     ]
    }
   ],
   "source": [
    "l = [] # 빈리스트\n",
    "t = () #빈튜플\n",
    "l = [1] # 요소가 하나인 리스트\n",
    "t = (1,) #요소가 하나인 튜플\n",
    "l = [1, 2, 3, 4, 5] #정수형 리스트\n",
    "t = (1, 2, 3, 4, 5) #정수형 퓨플\n",
    "t = (10.1, 5.3, 2.4 ) # 실수형 튜플\n",
    "t = (\"이숭무\", \"김찬중\") #문자열형 튜플\n",
    "t = (1, 2, 3, 10.1, \"이숭무\", \"김찬중\") # 혼합형 퓨플\n",
    "t = (1, 2, 3, 10.1, \"이숭무\", \"김찬중\", [1,2,3]) # 리스트를  포함한 혼합형 튜플\n",
    "t = (1, 2, 3, 10.1, \"이숭무\", \"김찬중\", (1,2,3)) # 튜플  포함한 혼합형 튜플\n",
    "t = (1, 2, 3, 10.1, \"이숭무\", \"김찬중\", (1,2,3), [4,5,6])\n",
    "l = [1, 2, 3, 10.1, \"이숭무\", \"김찬중\", (1,2,3), [4,5,6]]\n",
    "t = 1,\n",
    "print(t)\n",
    "t = 1, 2, 3, 4, 5, 6 # 튜플 : 튜플을 만들 때 소괄호를 사용하지 않아도 튜플이 만들어 짐\n",
    "print(t)"
   ]
  },
  {
   "cell_type": "code",
   "execution_count": 99,
   "id": "26fcdc5d-5c6d-4246-9624-0233e314e538",
   "metadata": {},
   "outputs": [
    {
     "name": "stdout",
     "output_type": "stream",
     "text": [
      "f\n",
      "too\n",
      "too\n",
      "fe is too short\n",
      "['too', 'short']\n",
      "('too', 'short')\n",
      "fe\n",
      "['too', 'short']\n",
      "('too', 'short')\n"
     ]
    }
   ],
   "source": [
    "#indexing\n",
    "str1 = \"Life is too short\"\n",
    "#                 1\n",
    "#       01234567890123456\n",
    "l1 = ['Life', 'is', 'too', 'short']\n",
    "#       0       1     2       3\n",
    "t1 = ('Life', 'is', 'too', 'short')\n",
    "#       0       1     2       3\n",
    "print(str1[2])\n",
    "print(l1[2])\n",
    "print(t1[2])\n",
    "# slicing\n",
    "print(str1[2:])\n",
    "print(l1[2:])\n",
    "print(t1[2:])\n",
    "print(str1[2:2+2])\n",
    "print(l1[2:2+2])\n",
    "print(t1[2:2+2])\n",
    "print(str1[:0+2])\n",
    "print(l1[:0+2])\n",
    "print(t1[:0+2])"
   ]
  },
  {
   "cell_type": "code",
   "execution_count": 108,
   "id": "5ddb3bf6-720e-486c-a432-67422f09c42f",
   "metadata": {},
   "outputs": [
    {
     "name": "stdout",
     "output_type": "stream",
     "text": [
      "y\n",
      "Life is too short\n",
      "Lyfe\n",
      "['Life', 'is', 'too', 'short']\n",
      "Lyfe\n",
      "['is', 'too', 'short']\n"
     ]
    }
   ],
   "source": [
    "str1 = \"Lyfe is too short\"\n",
    "l1 = ['Lyfe', 'is', 'too', 'short']\n",
    "t1 = 'Lyfe', 'is', 'too', 'short' # 상수와 같은 의미 이다.\n",
    "print(str1[1])\n",
    "#str1[1] = 'i'\n",
    "str1 = str1.replace(\"Lyfe\", \"Life\")\n",
    "print(str1)\n",
    "print(l1[0])\n",
    "l1[0] = 'Life' # 리스트는 요소의 값을 변경할 수 있다.\n",
    "print(l1)\n",
    "print(t1[0])\n",
    "# t1[0] = 'Life' # 튜플은 요소의 값을 변경하지 못한다.\n",
    "del l1[0]\n",
    "print(l1)\n",
    "# del t1[0] # 튜플은 수정이 안되므로 삭제나 추가도 안된다."
   ]
  },
  {
   "cell_type": "code",
   "execution_count": 113,
   "id": "acf6ba1b-f64d-4d09-8341-69385430ec6e",
   "metadata": {},
   "outputs": [
    {
     "name": "stdout",
     "output_type": "stream",
     "text": [
      "('Lyfe', 'is', 'too', 'short')\n",
      "4\n",
      "3\n",
      "2\n"
     ]
    }
   ],
   "source": [
    "# 튜플의 함수\n",
    "print(t1)\n",
    "print(len(t1))\n",
    "t2 = (1,2,3,3,4,5,3)\n",
    "print(t2.count(3))\n",
    "print(t1.index('too'))"
   ]
  },
  {
   "cell_type": "code",
   "execution_count": 115,
   "id": "3347a9d8-5fd9-4333-bf39-2c09e36a7826",
   "metadata": {},
   "outputs": [
    {
     "name": "stdout",
     "output_type": "stream",
     "text": [
      "['is', 'too']\n",
      "('is', 'too')\n",
      "['is', 'too', 'too', 'short']\n",
      "('is', 'too', 'too', 'short')\n",
      "('is', 'too', 'is', 'too', 'is', 'too')\n"
     ]
    }
   ],
   "source": [
    "# 문자열 연산자 : + : 연결연산자 , * : 반복 연산자\n",
    "# 리스트 연산자 : + : 연결연산자 , * : 반복 연산자\n",
    "# 튜플 연산자   : + : 연결연산자 , * : 반복 연산자\n",
    "l1 = ['Life', 'is', 'too', 'short']\n",
    "t1 = 'Life', 'is', 'too', 'short'\n",
    "print(l1[1:3]) # 리스트 ['is', 'too']\n",
    "print(t1[1:3]) # 튜플 ('is', 'too')\n",
    "print(l1[1:3] + l1[2:4]) # 리스트 + 리스트\n",
    "print(t1[1:3] + t1[2:4]) # 튜플 + 튜플\n",
    "print(t1[1:3] * 3) # 튜플 * 정수"
   ]
  },
  {
   "cell_type": "code",
   "execution_count": 129,
   "id": "e4cdd3ac-a045-4c4f-a1a2-7a4ad017c5c2",
   "metadata": {},
   "outputs": [
    {
     "name": "stdout",
     "output_type": "stream",
     "text": [
      "['h', 'e', 'l', 'l', 'o']\n",
      "('h', 'e', 'l', 'l', 'o')\n",
      "('h', 'e', 'l', 'l', 'o')\n",
      "['h', 'e', 'l', 'l', 'o']\n",
      "['h', 'e', 'l', 'l', 'o']10\n",
      "<class 'str'>\n",
      "('h', 'e', 'l', 'l', 'o')\n",
      "<class 'str'>\n",
      "hello\n",
      "Life is too short\n",
      "Life:is:too:short\n"
     ]
    }
   ],
   "source": [
    "# 형변환 : int, str, list, tuple,  float\n",
    "str2 = \"hello\"\n",
    "l2= list(str2) # 문자열을 리스트로\n",
    "print(l2)\n",
    "t2 = tuple(str2) # 문자열을 튜플\n",
    "print(t2)\n",
    "t3 = tuple(l2) # 리스트를 튜플로 \n",
    "print(t3)\n",
    "l3 = list(t2) # 튜플을 리스트\n",
    "print(l3)\n",
    "str3 = str(l3) #  리스트를 문자열 #\"['h', 'e', 'l', 'l', 'o']\"\n",
    "print(str3 + \"10\")\n",
    "print(type(str3))\n",
    "str4 = str(t3) #\"('h', 'e', 'l', 'l', 'o')\"\n",
    "print(str4) \n",
    "print(type(str4))\n",
    "# 리스트나 튜플을 문자열로 변경\n",
    "str5 = \"\".join(l3)\n",
    "print(str5)\n",
    "l1 = ['Life', 'is', 'too', 'short']\n",
    "'''Life  is too short'''\n",
    "str5 = \" \".join(l1)\n",
    "print(str5)\n",
    "t1 = 'Life', 'is', 'too', 'short'\n",
    "str5 = \":\".join(t1)\n",
    "print(str5)"
   ]
  },
  {
   "cell_type": "code",
   "execution_count": 134,
   "id": "62d49d22-d285-4354-b059-3e9abebb7556",
   "metadata": {},
   "outputs": [
    {
     "name": "stdout",
     "output_type": "stream",
     "text": [
      "{'name': '이숭무', 'age': 30, 'height': 170.5, 0: '서울'}\n",
      "이숭무\n",
      "30\n",
      "170.5\n",
      "서울\n"
     ]
    }
   ],
   "source": [
    "# 리터널 자료형 : 자연수 :  10 : 정수, 10.5 : 실수\n",
    "#                자연어 : 국어, 영어, 일본어,... : \" \", ' ',\"\"\" \"\"\",''' ''' : 문자열\n",
    "#                 부울  : True/False\n",
    "# 리스트 자료형 : []\n",
    "# 튜플   자료형 : ()\n",
    "# 딕셔너리 : {키1 : 값1, 키2: 값2,키3 : 값3,...키n : 값n} : json(JavaScript Object Notation) : map\n",
    "l = [] # 빈리스트\n",
    "t = () # 빈튜플\n",
    "dic = {} # 빈딕셔너리\n",
    "dic1 = {'name' : '이숭무', 'age' : 30, 'height': 170.5, 0 : '서울'}\n",
    "print(dic1)\n",
    "print(dic1['name'])\n",
    "print(dic1['age'])\n",
    "print(dic1['height'])\n",
    "print(dic1[0])\n",
    "# 딕셔너리는 index를 사용하지 않고  키를 사용한다."
   ]
  },
  {
   "cell_type": "code",
   "execution_count": 136,
   "id": "11f875bb-364b-4f69-92e8-0c12d3b9c3f6",
   "metadata": {},
   "outputs": [
    {
     "name": "stdout",
     "output_type": "stream",
     "text": [
      "이숭무의 나이는 30살이고 키는 173.5입니다\n",
      "이숭무의 나이는 30살이고 키는 175.3입니다\n",
      "이숭무의 나이는 30살이고 키는 170.5입니다\n"
     ]
    }
   ],
   "source": [
    "\"이숭무의 나이는 30살이고 키는 175.5입니다\"\n",
    "name = \"이숭무\"\n",
    "age = 30\n",
    "height = 173.5\n",
    "print(f\"{name}의 나이는 {age}살이고 키는 {height}입니다\")\n",
    "l4 = [\"이숭무\", 30, 175.3]\n",
    "print(f\"{l4[0]}의 나이는 {l4[1]}살이고 키는 {l4[2]}입니다\")\n",
    "d = {'name' : '이숭무', 'age' : 30, 'height': 170.5}\n",
    "print(f\"{d['name']}의 나이는 {d['age']}살이고 키는 {d['height']}입니다\")"
   ]
  },
  {
   "cell_type": "code",
   "execution_count": 149,
   "id": "8a7c7b99-9e11-4a69-a94c-a8dfb34c2b9d",
   "metadata": {},
   "outputs": [
    {
     "name": "stdout",
     "output_type": "stream",
     "text": [
      "2\n",
      "20\n",
      "이숭무\n",
      "{'name': '김찬중', 'age': 30, 'height': 170.5}\n",
      "[1, 20, 3, 4]\n",
      "[1, 20, 3, 4, 5]\n",
      "{'name': '김찬중', 'age': 30, 'height': 170.5}\n",
      "{'name': '김찬중', 'age': 30, 'height': 170.5, 'addr': '서울'}\n",
      "{1: '숭'}\n"
     ]
    }
   ],
   "source": [
    "d = {'name' : '이숭무', 'age' : 30, 'height': 170.5}\n",
    "l = [1,2,3,4]\n",
    "print(l[1])\n",
    "l[1] = 20\n",
    "print(l[1])\n",
    "print(d['name'])\n",
    "d['name'] = '김찬중'\n",
    "print(d)\n",
    "print(l) # [1, 20, 3, 4]\n",
    "#           0   1  2  3  4\n",
    "# l[4] = 5\n",
    "l.append(5)\n",
    "print(l)\n",
    "print(d) #{'name': '김찬중', 'age': 30, 'height': 170.5 , 'addr': '서울'}\n",
    "d['addr'] = '서울'\n",
    "print(d) # 키가 있으면 수정, 키가 없으면 추가, map\n",
    "d1 = {1:'이', 1:'숭'}\n",
    "print(d1) # 키의 중복이 허용되지 않으므로 마지막 값이 저장된다."
   ]
  },
  {
   "cell_type": "code",
   "execution_count": 154,
   "id": "b9a99d37-149b-490c-a38b-212b53f5aae0",
   "metadata": {},
   "outputs": [
    {
     "name": "stdout",
     "output_type": "stream",
     "text": [
      "[1, 3, 4]\n",
      "{'age': 30, 'height': 170.5}\n",
      "[1, 3, 4]\n",
      "[4]\n",
      "[]\n",
      "{}\n"
     ]
    }
   ],
   "source": [
    "# 딕셔너리 함수 \n",
    "d = {'name' : '이숭무', 'age' : 30, 'height': 170.5}\n",
    "l = [1,2,3,4]\n",
    "#    0 1 2 3\n",
    "# 요소 삭제\n",
    "del l[1]\n",
    "print(l)\n",
    "del d['name']\n",
    "print(d)\n",
    "print(l)\n",
    "del l[0:2] \n",
    "print(l)\n",
    "del l[:] # l.clear()\n",
    "print(l)\n",
    "d.clear()\n",
    "print(d)"
   ]
  },
  {
   "cell_type": "code",
   "execution_count": 159,
   "id": "05cb24e9-1520-45d0-a9e0-51d9348ae768",
   "metadata": {},
   "outputs": [
    {
     "name": "stdout",
     "output_type": "stream",
     "text": [
      "dict_keys(['name', 'age', 'height'])\n",
      "dict_values(['이숭무', 30, 170.5])\n",
      "dict_items([('name', '이숭무'), ('age', 30), ('height', 170.5)])\n",
      "['name', 'age', 'height']\n",
      "['이숭무', 30, 170.5]\n"
     ]
    }
   ],
   "source": [
    "# 딕셔너리에 있는 키를 가져오기\n",
    "dic1 = {'name': '이숭무', 'age': 30, 'height': 170.5}\n",
    "print(dic1.keys())\n",
    "# 딕셔너리에 있는 값를 가져오기\n",
    "print(dic1.values())\n",
    "# 키와 값을 묶어서 가져오기\n",
    "print(dic1.items())\n",
    "# 키나 값을 리스트로 변환\n",
    "print(list(dic1.keys()))\n",
    "print(list(dic1.values()))"
   ]
  },
  {
   "cell_type": "code",
   "execution_count": 173,
   "id": "cc537fd9-ed8e-440d-9660-95f6a70d1fb5",
   "metadata": {},
   "outputs": [
    {
     "name": "stdout",
     "output_type": "stream",
     "text": [
      "이숭무\n",
      "이숭무\n",
      "None\n",
      "서울\n",
      "500\n",
      "500\n",
      "1000\n",
      "1400\n",
      "1000\n",
      "1400\n",
      "900\n"
     ]
    }
   ],
   "source": [
    "dic1 = {'name': '이숭무', 'age': 30, 'height': 170.5}\n",
    "print(dic1['name'])\n",
    "print(dic1.get('name'))\n",
    "# print(dic1['addr'])\n",
    "print(dic1.get('addr'))\n",
    "print(dic1.get('addr','서울'))\n",
    "\n",
    "dic1 = {'classic':500, 'pop' : 700 , 'jazz' : 900}\n",
    "dic2 = {'classic':500, 'pop' : 700 }\n",
    "print(dic1['classic'])  # 정수\n",
    "print(dic2['classic']) # 정수\n",
    "print(dic1['classic'] + dic2['classic'])  # 정수 + 정수\n",
    "print(dic1['pop'] + dic2['pop']) # 정수 + 정수\n",
    "# print(dic1['jazz'] + dic2['jazz'])\n",
    "print(dic1.get('classic') + dic2.get('classic'))\n",
    "print(dic1.get('pop') + dic2.get('pop'))\n",
    "# print(dic1.get('jazz') + dic2.get('jazz')) #정수 + None : 오류\n",
    "print(dic1.get('jazz') + dic2.get('jazz', 0)) #정수 + 0 "
   ]
  },
  {
   "cell_type": "code",
   "execution_count": 181,
   "id": "4cd38f5b-f3e2-48c3-81a7-b10752381e25",
   "metadata": {},
   "outputs": [
    {
     "name": "stdout",
     "output_type": "stream",
     "text": [
      "{1, 2, 3, 4, 5}\n",
      "{1, 2, 3, 4}\n",
      "{1, 2, 3, 4}\n",
      "{1, 2, 3, 4}\n",
      "{1, 2, 3, 4}\n",
      "{'h', 'o', 'e', 'l'}\n"
     ]
    }
   ],
   "source": [
    "# 정수, 실수, 문자, 리스트, 튜플 \n",
    "# 딕셔너리 : {}, {키 :값,...}\n",
    "# 집합 자료형 : 합집합, 교집합, 차집합\n",
    "ss = {1,2,3,4,5}\n",
    "print(ss)\n",
    "ss = {1,1,2,2,3,3,4}\n",
    "print(ss)\n",
    "t1 = (1,2,3,4)\n",
    "ss = set(t1)\n",
    "print(ss)\n",
    "l1 = [1,2,3,4]\n",
    "ss = set(l1)\n",
    "print(ss)\n",
    "ss = set([1,2,3,4])\n",
    "ss = set((1,2,3,4))\n",
    "print(ss)\n",
    "ss = set(\"hello\") # 집합은 순서가 없다.\n",
    "print(ss)"
   ]
  },
  {
   "cell_type": "code",
   "execution_count": 185,
   "id": "610c50d5-966b-4920-a475-f9eeebcec13a",
   "metadata": {},
   "outputs": [
    {
     "name": "stdout",
     "output_type": "stream",
     "text": [
      "{3, 4}\n",
      "{3, 4}\n",
      "{1, 2, 3, 4, 5, 6}\n",
      "{1, 2, 3, 4, 5, 6}\n",
      "{1, 2}\n",
      "{1, 2}\n"
     ]
    }
   ],
   "source": [
    "s1 = {1,2,3,4}\n",
    "s2 = {3,4,5,6}\n",
    "# 교집합\n",
    "print(s1 & s2)\n",
    "print(s1.intersection(s2))\n",
    "#합집합\n",
    "print(s1 | s2)\n",
    "print(s1.union(s2))\n",
    "# 차집합\n",
    "print(s1 - s2)\n",
    "print(s1.difference(s2))"
   ]
  },
  {
   "cell_type": "code",
   "execution_count": 193,
   "id": "f1dc15e5-3040-4541-8796-f38a35a672e8",
   "metadata": {},
   "outputs": [
    {
     "name": "stdout",
     "output_type": "stream",
     "text": [
      "{1, 2, 3, 4, 7}\n",
      "{1, 2, 3, 4, 7}\n",
      "{1, 2, 3, 4, 7, 'a'}\n",
      "{1, 2, 3, 4, 7, 10, 11, 12, 'a'}\n",
      "{1, 2, 3, 4, 7, 10, 11, 12, 'a', 20, 21, 22}\n",
      "{1, 2, 3, 4, 7, 10, 11, 12, 20, 21, 22}\n"
     ]
    }
   ],
   "source": [
    "# 요소 추가\n",
    "s1 = {1, 2, 3, 4}\n",
    "s1.add(7) # 한번에 한개씩\n",
    "print(s1)\n",
    "s1.add(3) #  중복 데이터를 허용하지 않아 추가되지 않음\n",
    "print(s1)\n",
    "s1.add('a')\n",
    "print(s1)\n",
    "# 여러개의 데이터를 한번에\n",
    "# update\n",
    "s1.update((10,11,12))\n",
    "print(s1)\n",
    "s1.update([20,21,22])\n",
    "print(s1)\n",
    "# 삭제\n",
    "s1.remove('a')\n",
    "print(s1)"
   ]
  },
  {
   "cell_type": "code",
   "execution_count": 197,
   "id": "645736af-07ce-4f3f-9e0a-dbef8226fb15",
   "metadata": {},
   "outputs": [
    {
     "name": "stdout",
     "output_type": "stream",
     "text": [
      "True\n",
      "False\n",
      "true\n"
     ]
    }
   ],
   "source": [
    "# 기본자료형 : 정수, 실수, 문자, 부울 (참/거짓) : 리터널\n",
    "# 파이썬 자료형 : 리스트, 튜플, ,딕셔너리, 집합\n",
    "bl = True\n",
    "print(bl)\n",
    "bl = False\n",
    "print(bl)\n",
    "#a = true : name 'true' is not defined\n",
    "a = \"true\"\n",
    "print(a)"
   ]
  },
  {
   "cell_type": "code",
   "execution_count": 202,
   "id": "a6327524-cfe6-4dda-bb2e-b57c1ae76a62",
   "metadata": {},
   "outputs": [
    {
     "name": "stdout",
     "output_type": "stream",
     "text": [
      "True\n",
      "True\n",
      "True\n",
      "합격\n",
      "합격\n"
     ]
    }
   ],
   "source": [
    "# 부울 타입을 사용하는 때\n",
    "# 논리연산\n",
    "print(True and True)\n",
    "print(True or False)\n",
    "# 부울타입을 연산하기 위해서는 연산결과가 부울타입이어야 한다.\n",
    "# 관계연산(비교연산) : >, < , <=, >= ,!= ,== : 부울\n",
    "# 논리연산하기 위해서 관계연산과 같이 사용해야 한다. 관계연산자가 부울타입의 결과를 가져오기 때문에\n",
    "mat = 40\n",
    "eng = 80\n",
    "# 합격하기 위해서는 모든과목이 40점이상이고 평균이 60이상이어야 한다.\n",
    "result = mat >= 40 and eng >= 40 and (mat + eng) / 2 >= 60\n",
    "print(result)\n",
    "if result:\n",
    "    print(\"합격\")\n",
    "else:\n",
    "    print(\"불합격\")\n",
    "if mat >= 40 and eng >= 40 and (mat + eng) / 2 >= 60: # 조건식\n",
    "    print(\"합격\")\n",
    "else:\n",
    "    print(\"불합격\")"
   ]
  },
  {
   "cell_type": "code",
   "execution_count": 211,
   "id": "474841ec-073a-488d-a397-64e46ff413e1",
   "metadata": {},
   "outputs": [
    {
     "name": "stdout",
     "output_type": "stream",
     "text": [
      "True\n",
      "False\n",
      "True\n",
      "False\n",
      "True\n",
      "False\n",
      "True\n",
      "False\n",
      "True\n",
      "False\n",
      "True\n",
      "False\n"
     ]
    }
   ],
   "source": [
    "#변환함수: int(), float(),str(),list(),tuple(),set(),bool():참/거짓\n",
    "print(bool('이숭무'))\n",
    "print(bool('')) # False\n",
    "print(bool(1))\n",
    "print(bool(0)) # False\n",
    "print(bool(-1))\n",
    "print(bool([])) # False\n",
    "print(bool([1,2,3]))\n",
    "print(bool(())) # False\n",
    "print(bool((1,2,3)))\n",
    "print(bool({})) # False\n",
    "print(bool({1:1}))\n",
    "print(bool(None)) # False"
   ]
  },
  {
   "cell_type": "code",
   "execution_count": 213,
   "id": "82ffa3dd-c9ad-46d6-bdf6-ca8f5c485d94",
   "metadata": {},
   "outputs": [
    {
     "name": "stdout",
     "output_type": "stream",
     "text": [
      "<class 'int'>\n",
      "<class 'str'>\n",
      "<class 'float'>\n",
      "<class 'list'>\n",
      "<class 'tuple'>\n",
      "<class 'dict'>\n",
      "<class 'set'>\n",
      "<class 'bool'>\n"
     ]
    }
   ],
   "source": [
    "str1 = 'hello'\n",
    "i = 10 # <class 'int'>\n",
    "f = 10.5 \n",
    "l = [1,2,3,4] \n",
    "t = (1,2,3,4)\n",
    "dic = {1:'이'}\n",
    "s = {1,2,3,4}\n",
    "b = True\n",
    "print(type(i))\n",
    "print(type(str1))\n",
    "print(type(f))\n",
    "print(type(l))\n",
    "print(type(t))\n",
    "print(type(dic))\n",
    "print(type(s))\n",
    "print(type(b))"
   ]
  },
  {
   "cell_type": "code",
   "execution_count": 224,
   "id": "b710f5ad-cd7c-4b8c-8e2f-e7f416abd553",
   "metadata": {},
   "outputs": [
    {
     "name": "stdout",
     "output_type": "stream",
     "text": [
      "10 20 30\n",
      "10 20 30\n",
      "10 20 30\n",
      "10 20 30\n",
      "10 20 30\n",
      "10 20 30\n",
      "10 20 30\n",
      "10 20 30\n",
      "10 20 이숭무\n"
     ]
    }
   ],
   "source": [
    "#변수를 만드는 여러 가지 방법\n",
    "a = 10\n",
    "l = [1,2,3,4]\n",
    "t = 1,2,3,4\n",
    "a ,b ,c = 10, 20, 30\n",
    "print(a,b,c)\n",
    "a ,b ,c = (10, 20, 30)\n",
    "print(a,b,c)\n",
    "(a ,b ,c) = (10, 20, 30)\n",
    "print(a,b,c)\n",
    "(a ,b ,c) = 10, 20, 30\n",
    "print(a,b,c)\n",
    "a ,b ,c = [10, 20, 30]\n",
    "print(a,b,c)\n",
    "[a ,b ,c] = [10, 20, 30]\n",
    "print(a,b,c)\n",
    "[a ,b ,c] = 10, 20, 30\n",
    "print(a,b,c)\n",
    "[a ,b ,c] = (10, 20, 30)\n",
    "print(a,b,c)\n",
    "a ,b ,c = 10, 20, '이숭무'\n",
    "print(a,b,c)\n",
    "# a ,b ,c = 10, 20"
   ]
  },
  {
   "cell_type": "code",
   "execution_count": 228,
   "id": "1b99843b-a408-4b55-9284-6e1fd9ad9b9e",
   "metadata": {},
   "outputs": [
    {
     "name": "stdout",
     "output_type": "stream",
     "text": [
      "10 20\n",
      "20 10\n",
      "=========\n",
      "10 20\n"
     ]
    }
   ],
   "source": [
    "# 값 서로 교환하기\n",
    "a = 10\n",
    "b = 20\n",
    "print(a, b)\n",
    "#a의 값을 b에 주고 b가 가지고 있는 값을 a에게\n",
    "temp = b\n",
    "b = a\n",
    "a = temp\n",
    "print(a, b)\n",
    "print(\"=========\")\n",
    "a , b = b , a\n",
    "print(a, b)"
   ]
  },
  {
   "cell_type": "code",
   "execution_count": 231,
   "id": "1b7821e4-041d-4531-898c-fa2fd93e6aa0",
   "metadata": {},
   "outputs": [
    {
     "name": "stdout",
     "output_type": "stream",
     "text": [
      "x가 작다\n"
     ]
    }
   ],
   "source": [
    "#제어문 :  , \n",
    "#       조건문 : if \n",
    "#       반복문 : for, while\n",
    "x = 3\n",
    "y = 5\n",
    "if x > y:\n",
    "    print(\"x가 크다\")\n",
    "else :\n",
    "    print(\"x가 작다\")"
   ]
  },
  {
   "cell_type": "code",
   "execution_count": null,
   "id": "1a627bae-17b9-48dc-aa14-b287a77ce7f6",
   "metadata": {},
   "outputs": [],
   "source": []
  }
 ],
 "metadata": {
  "kernelspec": {
   "display_name": "Python 3 (ipykernel)",
   "language": "python",
   "name": "python3"
  },
  "language_info": {
   "codemirror_mode": {
    "name": "ipython",
    "version": 3
   },
   "file_extension": ".py",
   "mimetype": "text/x-python",
   "name": "python",
   "nbconvert_exporter": "python",
   "pygments_lexer": "ipython3",
   "version": "3.12.3"
  }
 },
 "nbformat": 4,
 "nbformat_minor": 5
}
